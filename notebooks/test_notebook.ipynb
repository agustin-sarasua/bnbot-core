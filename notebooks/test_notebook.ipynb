{
 "cells": [
  {
   "cell_type": "code",
   "execution_count": 5,
   "metadata": {},
   "outputs": [],
   "source": [
    "from app.utils import logger\n",
    "from tests import FakeCustomerChain"
   ]
  },
  {
   "cell_type": "code",
   "execution_count": null,
   "metadata": {},
   "outputs": [],
   "source": [
    "# %reload_ext autoreload\n",
    "# %autoreload 2\n",
    "\n",
    "# import os\n",
    "# import openai\n",
    "# from dotenv import load_dotenv, find_dotenv\n",
    "# _ = load_dotenv(find_dotenv()) # read local .env file\n",
    "\n",
    "# openai.api_key  = os.environ['OPENAI_API_KEY']"
   ]
  },
  {
   "cell_type": "code",
   "execution_count": null,
   "metadata": {},
   "outputs": [],
   "source": [
    "# from system import System\n",
    "# from tools import PropertiesFilterTool, InfoExtractorTool\n",
    "# from system import Conversation, Task, Step\n",
    "# from task_resolver import GatherBookingInfoResolver, HouseSelectionResolver, GatherUserInfoResolver, BookingConfirmationResolver\n",
    "# from system import System\n",
    "# from task_resolver.tasks import create_make_reservation_task, create_task_router_task"
   ]
  },
  {
   "cell_type": "code",
   "execution_count": null,
   "metadata": {},
   "outputs": [],
   "source": [
    "# from system import Conversation, Task, Step\n",
    "# from task_resolver import GatherBookingInfoResolver\n",
    "# from system import System\n",
    "\n",
    "# system_x = System()\n",
    "# step = Step(\"GATHER_BOOKING_INFO\", GatherBookingInfoResolver())\n",
    "# customer_number=\"99513718\"\n",
    "\n",
    "# def test_step(message, customer_number=\"99513718\"):\n",
    "#     system_x.add_user_message(message, customer_number)\n",
    "#     conversation = system_x.get_conversation(customer_number)\n",
    "#     print(f\"Conversation: {conversation}\")\n",
    "#     result = step.resolve(conversation)\n",
    "\n",
    "#     print(f\"Result: {result} \\nStep Done: {step.is_done()}\")\n",
    "#     if not step.is_done():\n",
    "#         system_x.add_assistant_message(result, customer_number)\n",
    "#     else:\n",
    "#         print(\"Step is Done, we can move to the next step.\")\n",
    "\n",
    "# test_step(\"2 personas para el sabado por 2 noches\")"
   ]
  },
  {
   "cell_type": "code",
   "execution_count": 2,
   "metadata": {},
   "outputs": [],
   "source": [
    "# from system import Conversation, Task, Step\n",
    "# from task_resolver import GatherBookingInfoResolver, HouseSelectionResolver, GatherUserInfoResolver, BookingConfirmationResolver\n",
    "# from system import System\n",
    "# from task_resolver.tasks import create_make_reservation_task, create_task_router_task\n",
    "# import langchain\n",
    "\n",
    "# system = System()\n",
    "# customer_number=\"99513718\"\n",
    "\n",
    "\n",
    "\n",
    "# def test_task(message: str, task: Task): \n",
    "#     conversation = system.get_conversation(customer_number)\n",
    "#     conversation.add_user_message(message)\n",
    "#     print(f\"Conversation: {conversation.get_messages()}\")\n",
    "#     response = task.run(conversation.get_messages())\n",
    "#     conversation.add_assistant_message(response)\n",
    "#     system.save_conversation(conversation)\n",
    "#     return response\n",
    "\n",
    "from tests.test_utils import FakeCustomerChain"
   ]
  },
  {
   "cell_type": "code",
   "execution_count": null,
   "metadata": {},
   "outputs": [],
   "source": [
    "# task = create_task_router_task()\n",
    "# make_reservation_task = create_make_reservation_task()"
   ]
  },
  {
   "cell_type": "code",
   "execution_count": null,
   "metadata": {},
   "outputs": [],
   "source": [
    "#test_task(\"Hola\", create_task_router_task())\n",
    "\n",
    "# test_task(\"Me gustaria reservar una casa\", task)"
   ]
  },
  {
   "cell_type": "code",
   "execution_count": null,
   "metadata": {},
   "outputs": [],
   "source": [
    "# from system import System\n",
    "# from tools import PropertiesFilterTool, InfoExtractorTool\n",
    "# from system import Conversation, Task, Step\n",
    "# from task_resolver import GatherBookingInfoResolver, HouseSelectionResolver, GatherUserInfoResolver, BookingConfirmationResolver\n",
    "# from system import System\n",
    "# from task_resolver.tasks import create_make_reservation_task, create_task_router_task\n",
    "\n",
    "# system = System()\n",
    "\n",
    "# def create_task(task_name):\n",
    "#     if task_name == \"MAKE_RESERVATION_TASK\":\n",
    "#         return create_make_reservation_task()\n",
    "#     else:\n",
    "#         return create_task_router_task()\n",
    "\n",
    "# def main_flow(message: str, customer_number: str): \n",
    "\n",
    "#     if message == \"exit\":\n",
    "#         system.save_conversation(Conversation(customer_number, create_task_router_task()))\n",
    "#         return \"Conversacion reiniciada. Puedes comenzar de nuevo!\"\n",
    "\n",
    "#     conversation = system.get_conversation(customer_number)\n",
    "#     conversation.add_user_message(message)\n",
    "#     print(f\"Conversation: {conversation.get_messages()}\")\n",
    "#     task_result = conversation.task.run(conversation.get_messages())\n",
    "#     if conversation.task.name == \"TASK_ROUTER_TASK\":\n",
    "#         if task_result[\"task_id\"] != \"OTHER\":\n",
    "#             # Here I know already that he wants to make a reservation.\n",
    "#             task = create_task(task_result[\"task_id\"])\n",
    "#             conversation.task = task\n",
    "#             response = task.run(conversation.get_messages())\n",
    "#             # if not task.steps[-1].reply_when_done:\n",
    "#             #     return main_flow()                \n",
    "#             conversation.add_assistant_message(response)\n",
    "#             system.save_conversation(conversation)\n",
    "#             return response\n",
    "#         else:\n",
    "#             conversation.add_assistant_message(task_result[\"text\"])\n",
    "#             system.save_conversation(conversation)\n",
    "#             return task_result[\"text\"]\n",
    "#     else:\n",
    "#         conversation.add_assistant_message(task_result)\n",
    "#         system.save_conversation(conversation)\n",
    "#         return task_result"
   ]
  },
  {
   "cell_type": "code",
   "execution_count": null,
   "metadata": {},
   "outputs": [],
   "source": [
    "# main_flow(\"Hola\", \"12345\")"
   ]
  },
  {
   "cell_type": "code",
   "execution_count": null,
   "metadata": {},
   "outputs": [],
   "source": [
    "# main_flow(\"Me gustaria reservar una casa para el finde\", \"12345\")"
   ]
  },
  {
   "cell_type": "code",
   "execution_count": null,
   "metadata": {},
   "outputs": [],
   "source": [
    "# main_flow(\"exit\", \"12345\")"
   ]
  },
  {
   "cell_type": "code",
   "execution_count": null,
   "metadata": {},
   "outputs": [],
   "source": [
    "# main_flow(\"Queria comprar huevos, cuanto estan?\", \"12345\")"
   ]
  },
  {
   "attachments": {},
   "cell_type": "markdown",
   "metadata": {},
   "source": [
    "# Twilio "
   ]
  },
  {
   "cell_type": "code",
   "execution_count": 4,
   "metadata": {},
   "outputs": [
    {
     "name": "stdout",
     "output_type": "stream",
     "text": [
      "IMcb43150e3d8f483ba5928f14a972ad26\n"
     ]
    }
   ],
   "source": [
    "# Download the helper library from https://www.twilio.com/docs/python/install\n",
    "import os\n",
    "from twilio.rest import Client\n",
    "\n",
    "# Find your Account SID and Auth Token at twilio.com/console\n",
    "# and set the environment variables. See http://twil.io/secure\n",
    "account_sid = 'AC7d3f5afa3a02d3844095489e29bd655f'\n",
    "auth_token = '446fa2800e9329a2b794006ea5dc6455'\n",
    "client = Client(account_sid, auth_token)\n",
    "\n",
    "message = client.conversations \\\n",
    "                .v1 \\\n",
    "                .conversations('CH042387a6d7c24de58d897fd01e312f19') \\\n",
    "                .messages \\\n",
    "                .create(author='system', body='hola')\n",
    "\n",
    "print(message.sid)\n"
   ]
  },
  {
   "cell_type": "code",
   "execution_count": null,
   "metadata": {},
   "outputs": [],
   "source": []
  }
 ],
 "metadata": {
  "kernelspec": {
   "display_name": ".venv",
   "language": "python",
   "name": "python3"
  },
  "language_info": {
   "codemirror_mode": {
    "name": "ipython",
    "version": 3
   },
   "file_extension": ".py",
   "mimetype": "text/x-python",
   "name": "python",
   "nbconvert_exporter": "python",
   "pygments_lexer": "ipython3",
   "version": "3.11.3"
  },
  "orig_nbformat": 4
 },
 "nbformat": 4,
 "nbformat_minor": 2
}
