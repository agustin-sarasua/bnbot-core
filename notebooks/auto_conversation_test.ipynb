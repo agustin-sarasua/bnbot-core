{
 "cells": [
  {
   "cell_type": "code",
   "execution_count": 2,
   "metadata": {},
   "outputs": [
    {
     "ename": "ModuleNotFoundError",
     "evalue": "No module named 'system'",
     "output_type": "error",
     "traceback": [
      "\u001b[0;31m---------------------------------------------------------------------------\u001b[0m",
      "\u001b[0;31mModuleNotFoundError\u001b[0m                       Traceback (most recent call last)",
      "Cell \u001b[0;32mIn[2], line 3\u001b[0m\n\u001b[1;32m      1\u001b[0m \u001b[39mfrom\u001b[39;00m \u001b[39mtests\u001b[39;00m\u001b[39m.\u001b[39;00m\u001b[39mtest_utils\u001b[39;00m \u001b[39mimport\u001b[39;00m FakeCustomerChain\n\u001b[0;32m----> 3\u001b[0m \u001b[39mfrom\u001b[39;00m \u001b[39mapp\u001b[39;00m\u001b[39m.\u001b[39;00m\u001b[39mmain\u001b[39;00m \u001b[39mimport\u001b[39;00m main_flow\n\u001b[1;32m      5\u001b[0m \u001b[39mfrom\u001b[39;00m \u001b[39mtyping\u001b[39;00m \u001b[39mimport\u001b[39;00m List\n\u001b[1;32m      6\u001b[0m \u001b[39mimport\u001b[39;00m \u001b[39mtime\u001b[39;00m\n",
      "File \u001b[0;32m~/workspace/bnbot/app/main.py:6\u001b[0m\n\u001b[1;32m      4\u001b[0m \u001b[39mimport\u001b[39;00m \u001b[39mos\u001b[39;00m\n\u001b[1;32m      5\u001b[0m \u001b[39mimport\u001b[39;00m \u001b[39mopenai\u001b[39;00m\n\u001b[0;32m----> 6\u001b[0m \u001b[39mfrom\u001b[39;00m \u001b[39msystem\u001b[39;00m \u001b[39mimport\u001b[39;00m System\n\u001b[1;32m      7\u001b[0m \u001b[39mfrom\u001b[39;00m \u001b[39msystem\u001b[39;00m \u001b[39mimport\u001b[39;00m Conversation\n\u001b[1;32m      8\u001b[0m \u001b[39mfrom\u001b[39;00m \u001b[39msystem\u001b[39;00m \u001b[39mimport\u001b[39;00m System\n",
      "\u001b[0;31mModuleNotFoundError\u001b[0m: No module named 'system'"
     ]
    }
   ],
   "source": [
    "from tests.test_utils import FakeCustomerChain\n",
    "\n",
    "from app.main import main_flow\n",
    "\n",
    "from typing import List\n",
    "import time\n",
    "\n",
    "from app.system import Conversation, Task, Step, System\n",
    "from app.task_resolver import GatherBookingInfoResolver, HouseSelectionResolver, GatherUserInfoResolver, BookingConfirmationResolver\n",
    "# from task_resolver.tasks import create_make_reservation_task, create_task_router_task\n",
    "# import langchain\n",
    "\n",
    "def main_flow(message: str, customer_number: str, system: System): \n",
    "\n",
    "    if message == \"exit\":\n",
    "        system.save_conversation(Conversation(customer_number, create_task_router_task()))\n",
    "        return \"Conversacion reiniciada. Puedes comenzar de nuevo!\"\n",
    "\n",
    "    conversation = system.get_conversation(customer_number)\n",
    "    conversation.add_user_message(message)\n",
    "    logger.debug(f\"Conversation: {conversation.get_messages()}\")\n",
    "    task_result = conversation.task.run(conversation.get_messages())\n",
    "    if conversation.task.name == \"TASK_ROUTER_TASK\":\n",
    "        if task_result[\"task_id\"] != \"OTHER\":\n",
    "            # Here I know already that he wants to make a reservation.\n",
    "            task = create_task(task_result[\"task_id\"])\n",
    "            conversation.task = task\n",
    "            response = task.run(conversation.get_messages())\n",
    "            # if not task.steps[-1].reply_when_done:\n",
    "            #     return main_flow()                \n",
    "            conversation.add_assistant_message(response)\n",
    "            system.save_conversation(conversation)\n",
    "            return response\n",
    "        else:\n",
    "            conversation.add_assistant_message(task_result[\"text\"])\n",
    "            system.save_conversation(conversation)\n",
    "            return task_result[\"text\"]\n",
    "    else:\n",
    "        conversation.add_assistant_message(task_result)\n",
    "        system.save_conversation(conversation)\n",
    "        return task_result\n",
    "\n",
    "def test_conversation(customer: FakeCustomerChain, first_msg=\"Hola\") -> List[str]:\n",
    "\n",
    "    system = System()\n",
    "    customer_number=\"99513718\"\n",
    "\n",
    "    chat_history = [first_msg]\n",
    "\n",
    "    for i in range(10):\n",
    "        bnbot_response = main_flow(first_msg, customer_number)\n",
    "        chat_history.append(bnbot_response)\n",
    "        customer_response = customer(chat_history)\n",
    "        chat_history.append(customer_response)\n",
    "    \n",
    "    return chat_history"
   ]
  },
  {
   "cell_type": "code",
   "execution_count": null,
   "metadata": {},
   "outputs": [],
   "source": [
    "\n",
    "\n",
    "\n",
    "\n",
    "# def test_task(message: str, task: Task): \n",
    "#     conversation = system.get_conversation(customer_number)\n",
    "#     conversation.add_user_message(message)\n",
    "#     print(f\"Conversation: {conversation.get_messages()}\")\n",
    "#     response = task.run(conversation.get_messages())\n",
    "#     conversation.add_assistant_message(response)\n",
    "#     system.save_conversation(conversation)\n",
    "#     return response"
   ]
  }
 ],
 "metadata": {
  "kernelspec": {
   "display_name": ".venv",
   "language": "python",
   "name": "python3"
  },
  "language_info": {
   "codemirror_mode": {
    "name": "ipython",
    "version": 3
   },
   "file_extension": ".py",
   "mimetype": "text/x-python",
   "name": "python",
   "nbconvert_exporter": "python",
   "pygments_lexer": "ipython3",
   "version": "3.11.3"
  },
  "orig_nbformat": 4
 },
 "nbformat": 4,
 "nbformat_minor": 2
}
