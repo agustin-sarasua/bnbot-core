{
 "cells": [
  {
   "cell_type": "code",
   "execution_count": 1,
   "metadata": {},
   "outputs": [],
   "source": [
    "%reload_ext autoreload\n",
    "%autoreload 2\n",
    "\n",
    "import os\n",
    "import openai\n",
    "from dotenv import load_dotenv, find_dotenv\n",
    "_ = load_dotenv(find_dotenv()) # read local .env file\n",
    "\n",
    "openai.api_key  = os.environ['OPENAI_API_KEY']"
   ]
  },
  {
   "cell_type": "code",
   "execution_count": 3,
   "metadata": {},
   "outputs": [],
   "source": [
    "from app.system import System\n",
    "from app.tools import PropertiesFilterTool, InfoExtractorTool\n",
    "from app.system import Conversation, Task, Step\n",
    "from app.task_resolver import GatherBookingInfoResolver, HouseSelectionResolver, GatherUserInfoResolver, BookingConfirmationResolver\n",
    "from app.system import System\n",
    "from app.task_resolver.tasks import create_make_reservation_task, create_task_router_task"
   ]
  },
  {
   "cell_type": "code",
   "execution_count": 4,
   "metadata": {},
   "outputs": [],
   "source": [
    "# from app.system import Conversation, Task, Step\n",
    "# from app.task_resolver import GatherBookingInfoResolver\n",
    "# from app.system import System\n",
    "\n",
    "# system_x = System()\n",
    "# step = Step(\"GATHER_BOOKING_INFO\", GatherBookingInfoResolver())\n",
    "# customer_number=\"99513718\"\n",
    "\n",
    "# def test_step(message, customer_number=\"99513718\"):\n",
    "#     system_x.add_user_message(message, customer_number)\n",
    "#     conversation = system_x.get_conversation(customer_number)\n",
    "#     print(f\"Conversation: {conversation}\")\n",
    "#     result = step.resolve(conversation)\n",
    "\n",
    "#     print(f\"Result: {result} \\nStep Done: {step.is_done()}\")\n",
    "#     if not step.is_done():\n",
    "#         system_x.add_assistant_message(result, customer_number)\n",
    "#     else:\n",
    "#         print(\"Step is Done, we can move to the next step.\")\n",
    "\n",
    "# test_step(\"2 personas para el sabado por 2 noches\")"
   ]
  },
  {
   "cell_type": "code",
   "execution_count": 1,
   "metadata": {},
   "outputs": [],
   "source": [
    "from app.system import Conversation, Task, Step\n",
    "from app.task_resolver import GatherBookingInfoResolver, HouseSelectionResolver, GatherUserInfoResolver, BookingConfirmationResolver\n",
    "from app.system import System\n",
    "from app.task_resolver.tasks import create_make_reservation_task, create_task_router_task\n",
    "import langchain\n",
    "\n",
    "system = System()\n",
    "customer_number=\"99513718\"\n",
    "\n",
    "\n",
    "\n",
    "def test_task(message: str, task: Task): \n",
    "    conversation = system.get_conversation(customer_number)\n",
    "    conversation.add_user_message(message)\n",
    "    print(f\"Conversation: {conversation.get_messages()}\")\n",
    "    response = task.run(conversation.get_messages())\n",
    "    conversation.add_assistant_message(response)\n",
    "    system.save_conversation(conversation)\n",
    "    return response"
   ]
  },
  {
   "cell_type": "code",
   "execution_count": 3,
   "metadata": {},
   "outputs": [],
   "source": [
    "task = create_task_router_task()\n",
    "# make_reservation_task = create_make_reservation_task()"
   ]
  },
  {
   "cell_type": "code",
   "execution_count": 4,
   "metadata": {},
   "outputs": [
    {
     "name": "stdout",
     "output_type": "stream",
     "text": [
      "Conversation: [{'role': 'user', 'content': 'Hola'}, {'role': 'assistant', 'content': 'Hola, ¿en qué puedo ayudarte con respecto a la reserva de una casa para estadías cortas?'}, {'role': 'user', 'content': 'Me gustaria reservar una casa'}]\n",
      "Resolving Step: PROMPT_INJECTION_STEP\n",
      "Resolving Step: EXIT_TASK_STEP\n",
      "Resolving Step: TASK_IDENTIFIER_STEP\n",
      "\n",
      "\n",
      "\u001b[1m> Entering new  chain...\u001b[0m\n",
      "Prompt after formatting:\n",
      "\u001b[32;1m\u001b[1;3mYou are an Assistant that helps users perform actions related to booking a house for short-term stay.\n",
      "Your task is to identify which action does the user want to do. You allways answer in Spanish.\n",
      "\n",
      "Here is the list of possible actions:\n",
      "\n",
      "MAKE_RESERVATION: the user wants to book an accomodation.\n",
      "ASK_FOR_INFO: the user needs information about the properties available.\n",
      "RESERVATION_INFORMATION: the user wants information about an accomodation booked by him before.\n",
      "OTHER: when None of the actions described above fits.\n",
      "\n",
      "Here is the conversation: \n",
      "user: Hola\n",
      "assistant: Hola, ¿en qué puedo ayudarte con respecto a la reserva de una casa para estadías cortas?\n",
      "user: Me gustaria reservar una casa\n",
      "\n",
      "\n",
      "The output should be a markdown code snippet formatted in the following schema, including the leading and trailing \"```json\" and \"```\":\n",
      "\n",
      "```json\n",
      "{\n",
      "\t\"task_id\": string  // The task_id of the Task that the user wants to perform.\n",
      "\t\"text\": string  // The response to the user.\n",
      "}\n",
      "```\u001b[0m\n",
      "\n",
      "\u001b[1m> Finished chain.\u001b[0m\n",
      "Assistant Response: {'task_id': 'MAKE_RESERVATION', 'text': '¡Genial! ¿En qué fechas te gustaría reservar la casa y para cuántas personas?'}\n"
     ]
    },
    {
     "data": {
      "text/plain": [
       "'¡Genial! ¿En qué fechas te gustaría reservar la casa y para cuántas personas?'"
      ]
     },
     "execution_count": 4,
     "metadata": {},
     "output_type": "execute_result"
    }
   ],
   "source": [
    "#test_task(\"Hola\", create_task_router_task())\n",
    "\n",
    "test_task(\"Me gustaria reservar una casa\", task)"
   ]
  },
  {
   "cell_type": "code",
   "execution_count": 1,
   "metadata": {},
   "outputs": [],
   "source": [
    "from app.system import System\n",
    "from app.tools import PropertiesFilterTool, InfoExtractorTool\n",
    "from app.system import Conversation, Task, Step\n",
    "from app.task_resolver import GatherBookingInfoResolver, HouseSelectionResolver, GatherUserInfoResolver, BookingConfirmationResolver\n",
    "from app.system import System\n",
    "from app.task_resolver.tasks import create_make_reservation_task, create_task_router_task\n",
    "\n",
    "system = System()\n",
    "\n",
    "def create_task(task_name):\n",
    "    if task_name == \"MAKE_RESERVATION_TASK\":\n",
    "        return create_make_reservation_task()\n",
    "    else:\n",
    "        return create_task_router_task()\n",
    "\n",
    "def main_flow(message: str, customer_number: str): \n",
    "\n",
    "    if message == \"exit\":\n",
    "        system.save_conversation(Conversation(customer_number, create_task_router_task()))\n",
    "        return \"Conversacion reiniciada. Puedes comenzar de nuevo!\"\n",
    "\n",
    "    conversation = system.get_conversation(customer_number)\n",
    "    conversation.add_user_message(message)\n",
    "    print(f\"Conversation: {conversation.get_messages()}\")\n",
    "    task_result = conversation.task.run(conversation.get_messages())\n",
    "    if conversation.task.name == \"TASK_ROUTER_TASK\":\n",
    "        if task_result[\"task_id\"] != \"OTHER\":\n",
    "            # Here I know already that he wants to make a reservation.\n",
    "            task = create_task(task_result[\"task_id\"])\n",
    "            conversation.task = task\n",
    "            response = task.run(conversation.get_messages())\n",
    "            # if not task.steps[-1].reply_when_done:\n",
    "            #     return main_flow()                \n",
    "            conversation.add_assistant_message(response)\n",
    "            system.save_conversation(conversation)\n",
    "            return response\n",
    "        else:\n",
    "            conversation.add_assistant_message(task_result[\"text\"])\n",
    "            system.save_conversation(conversation)\n",
    "            return task_result[\"text\"]\n",
    "    else:\n",
    "        conversation.add_assistant_message(task_result)\n",
    "        system.save_conversation(conversation)\n",
    "        return task_result"
   ]
  },
  {
   "cell_type": "code",
   "execution_count": 2,
   "metadata": {},
   "outputs": [
    {
     "name": "stdout",
     "output_type": "stream",
     "text": [
      "Conversation: [{'role': 'user', 'content': 'Hola'}]\n",
      "Resolving Step: PROMPT_INJECTION_STEP\n",
      "Resolving Step: EXIT_TASK_STEP\n",
      "Resolving Step: TASK_IDENTIFIER_STEP\n",
      "\n",
      "\n",
      "\u001b[1m> Entering new  chain...\u001b[0m\n",
      "Prompt after formatting:\n",
      "\u001b[32;1m\u001b[1;3mYou are an Assistant that helps users.\n",
      "Your task is to identify which action does the user want to do. You allways answer in Spanish.\n",
      "\n",
      "Here is the list of possible actions:\n",
      "\n",
      "MAKE_RESERVATION_TASK: the user wants to book an accomodation.\n",
      "PROPERTIES_INFORMATION_TASK: the user needs information about the properties available.\n",
      "RESERVATION_INFORMATION_TASK: the user wants information about an accomodation booked before.\n",
      "OTHER: when None of the actions described above fits.\n",
      "\n",
      "Here is the conversation: \n",
      "user: Hola\n",
      "\n",
      "\n",
      "The output should be a markdown code snippet formatted in the following schema, including the leading and trailing \"```json\" and \"```\":\n",
      "\n",
      "```json\n",
      "{\n",
      "\t\"task_id\": string  // The task_id of the Task that the user wants to perform.\n",
      "\t\"text\": string  // The response to the user.\n",
      "}\n",
      "```\u001b[0m\n",
      "\n",
      "\u001b[1m> Finished chain.\u001b[0m\n",
      "Assistant Response: {'task_id': 'OTHER', 'text': 'Hola, ¿en qué puedo ayudarte?'}\n",
      "Reached final step\n"
     ]
    },
    {
     "data": {
      "text/plain": [
       "'Hola, ¿en qué puedo ayudarte?'"
      ]
     },
     "execution_count": 2,
     "metadata": {},
     "output_type": "execute_result"
    }
   ],
   "source": [
    "main_flow(\"Hola\", \"12345\")"
   ]
  },
  {
   "cell_type": "code",
   "execution_count": 3,
   "metadata": {},
   "outputs": [
    {
     "name": "stdout",
     "output_type": "stream",
     "text": [
      "Conversation: [{'role': 'user', 'content': 'Hola'}, {'role': 'assistant', 'content': 'Hola, ¿en qué puedo ayudarte?'}, {'role': 'user', 'content': 'Me gustaria reservar una casa para el finde'}]\n",
      "Resolving Step: TASK_IDENTIFIER_STEP\n",
      "\n",
      "\n",
      "\u001b[1m> Entering new  chain...\u001b[0m\n",
      "Prompt after formatting:\n",
      "\u001b[32;1m\u001b[1;3mYou are an Assistant that helps users.\n",
      "Your task is to identify which action does the user want to do. You allways answer in Spanish.\n",
      "\n",
      "Here is the list of possible actions:\n",
      "\n",
      "MAKE_RESERVATION_TASK: the user wants to book an accomodation.\n",
      "PROPERTIES_INFORMATION_TASK: the user needs information about the properties available.\n",
      "RESERVATION_INFORMATION_TASK: the user wants information about an accomodation booked before.\n",
      "OTHER: when None of the actions described above fits.\n",
      "\n",
      "Here is the conversation: \n",
      "user: Hola\n",
      "assistant: Hola, ¿en qué puedo ayudarte?\n",
      "user: Me gustaria reservar una casa para el finde\n",
      "\n",
      "\n",
      "The output should be a markdown code snippet formatted in the following schema, including the leading and trailing \"```json\" and \"```\":\n",
      "\n",
      "```json\n",
      "{\n",
      "\t\"task_id\": string  // The task_id of the Task that the user wants to perform.\n",
      "\t\"text\": string  // The response to the user.\n",
      "}\n",
      "```\u001b[0m\n",
      "\n",
      "\u001b[1m> Finished chain.\u001b[0m\n",
      "Assistant Response: {'task_id': 'MAKE_RESERVATION_TASK', 'text': '¡Claro! ¿En qué ciudad te gustaría reservar la casa y para cuántas personas?'}\n",
      "Reached final step\n",
      "Resolving Step: GATHER_BOOKING_INFO\n",
      "Assistant Response: ¡Hola! Claro, con gusto te ayudo a reservar una casa. Antes de empezar, ¿podrías proporcionarme la fecha de entrada que tienes en mente?\n",
      "\n",
      "\n",
      "\u001b[1m> Entering new  chain...\u001b[0m\n",
      "Prompt after formatting:\n",
      "\u001b[32;1m\u001b[1;3mGiven a conversation between a user and an assistant about booking a house for short-term stay. Your job is to extract the check-in date, checkout-date and number of nights from the query.\n",
      "If the year is not specified in the query, assume it is after today, same year or at most next year if the month is before current month.\n",
      "Today is 20 June 2023.\n",
      "\n",
      "\n",
      "\n",
      "Here is the conversation: \n",
      "user: Hola\n",
      "assistant: Hola, ¿en qué puedo ayudarte?\n",
      "user: Me gustaria reservar una casa para el finde\n",
      "\n",
      "\n",
      "The output should be a markdown code snippet formatted in the following schema, including the leading and trailing \"```json\" and \"```\":\n",
      "\n",
      "```json\n",
      "{\n",
      "\t\"checkin_date\": string  // reservation Check-In date formated as YYYY-MM-DD i.e: 2023-09-24. If not present, set an empty string.\n",
      "\t\"checkout_date\": string  // reservation Check-Out date formated as YYYY-MM-DD i.e: 2023-09-24. If not present, set an empty string.\n",
      "\t\"num_nights\": string  // Number of nights the customer is staying. If not present, set 0.\n",
      "\t\"num_guests\": string  // Number of guests staying in the house. If not present, set 0.\n",
      "}\n",
      "```\u001b[0m\n",
      "\n",
      "\u001b[1m> Finished chain.\u001b[0m\n",
      "GatherBookingInfoResolver output: {'checkin_date': '2023-06-25', 'checkout_date': '2023-06-27', 'num_nights': 2, 'num_guests': 0}\n"
     ]
    },
    {
     "data": {
      "text/plain": [
       "'¡Hola! Claro, con gusto te ayudo a reservar una casa. Antes de empezar, ¿podrías proporcionarme la fecha de entrada que tienes en mente?'"
      ]
     },
     "execution_count": 3,
     "metadata": {},
     "output_type": "execute_result"
    }
   ],
   "source": [
    "main_flow(\"Me gustaria reservar una casa para el finde\", \"12345\")"
   ]
  },
  {
   "cell_type": "code",
   "execution_count": 4,
   "metadata": {},
   "outputs": [
    {
     "data": {
      "text/plain": [
       "'Conversacion reiniciada. Puedes comenzar de nuevo!'"
      ]
     },
     "execution_count": 4,
     "metadata": {},
     "output_type": "execute_result"
    }
   ],
   "source": [
    "main_flow(\"exit\", \"12345\")"
   ]
  },
  {
   "cell_type": "code",
   "execution_count": 6,
   "metadata": {},
   "outputs": [
    {
     "name": "stdout",
     "output_type": "stream",
     "text": [
      "Conversation: [{'role': 'user', 'content': 'Hola de nuevo'}, {'role': 'assistant', 'content': 'Hola, ¿en qué puedo ayudarte?'}, {'role': 'user', 'content': 'Queria comprar huevos, cuanto estan?'}]\n",
      "Resolving Step: TASK_IDENTIFIER_STEP\n",
      "\n",
      "\n",
      "\u001b[1m> Entering new  chain...\u001b[0m\n",
      "Prompt after formatting:\n",
      "\u001b[32;1m\u001b[1;3mYou are an Assistant that helps users.\n",
      "Your task is to identify which action does the user want to do. You allways answer in Spanish.\n",
      "\n",
      "Here is the list of possible actions:\n",
      "\n",
      "MAKE_RESERVATION_TASK: the user wants to book an accomodation.\n",
      "PROPERTIES_INFORMATION_TASK: the user needs information about the properties available.\n",
      "RESERVATION_INFORMATION_TASK: the user wants information about an accomodation booked before.\n",
      "OTHER: when None of the actions described above fits.\n",
      "\n",
      "Here is the conversation: \n",
      "user: Hola de nuevo\n",
      "assistant: Hola, ¿en qué puedo ayudarte?\n",
      "user: Queria comprar huevos, cuanto estan?\n",
      "\n",
      "\n",
      "The output should be a markdown code snippet formatted in the following schema, including the leading and trailing \"```json\" and \"```\":\n",
      "\n",
      "```json\n",
      "{\n",
      "\t\"task_id\": string  // The task_id of the Task that the user wants to perform.\n",
      "\t\"text\": string  // The response to the user.\n",
      "}\n",
      "```\u001b[0m\n",
      "\n",
      "\u001b[1m> Finished chain.\u001b[0m\n",
      "Assistant Response: {'task_id': 'OTHER', 'text': 'Lo siento, no puedo ayudarte con la compra de huevos. ¿Hay algo más en lo que pueda ayudarte?'}\n",
      "Reached final step\n"
     ]
    },
    {
     "data": {
      "text/plain": [
       "'Lo siento, no puedo ayudarte con la compra de huevos. ¿Hay algo más en lo que pueda ayudarte?'"
      ]
     },
     "execution_count": 6,
     "metadata": {},
     "output_type": "execute_result"
    }
   ],
   "source": [
    "main_flow(\"Queria comprar huevos, cuanto estan?\", \"12345\")"
   ]
  },
  {
   "cell_type": "code",
   "execution_count": null,
   "metadata": {},
   "outputs": [],
   "source": []
  }
 ],
 "metadata": {
  "kernelspec": {
   "display_name": ".venv",
   "language": "python",
   "name": "python3"
  },
  "language_info": {
   "codemirror_mode": {
    "name": "ipython",
    "version": 3
   },
   "file_extension": ".py",
   "mimetype": "text/x-python",
   "name": "python",
   "nbconvert_exporter": "python",
   "pygments_lexer": "ipython3",
   "version": "3.11.3"
  },
  "orig_nbformat": 4
 },
 "nbformat": 4,
 "nbformat_minor": 2
}
