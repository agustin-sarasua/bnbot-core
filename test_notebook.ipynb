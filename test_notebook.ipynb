{
 "cells": [
  {
   "cell_type": "code",
   "execution_count": 4,
   "metadata": {},
   "outputs": [],
   "source": [
    "%reload_ext autoreload\n",
    "%autoreload 2\n",
    "\n",
    "import os\n",
    "import openai\n",
    "from dotenv import load_dotenv, find_dotenv\n",
    "_ = load_dotenv(find_dotenv()) # read local .env file\n",
    "\n",
    "openai.api_key  = os.environ['OPENAI_API_KEY']"
   ]
  },
  {
   "cell_type": "code",
   "execution_count": 5,
   "metadata": {},
   "outputs": [
    {
     "ename": "NameError",
     "evalue": "name 'response_schemas' is not defined",
     "output_type": "error",
     "traceback": [
      "\u001b[0;31m---------------------------------------------------------------------------\u001b[0m",
      "\u001b[0;31mNameError\u001b[0m                                 Traceback (most recent call last)",
      "Cell \u001b[0;32mIn[5], line 7\u001b[0m\n\u001b[1;32m      5\u001b[0m \u001b[39mfrom\u001b[39;00m \u001b[39mapp\u001b[39;00m\u001b[39m.\u001b[39;00m\u001b[39mtools\u001b[39;00m \u001b[39mimport\u001b[39;00m PropertiesFilterTool, InfoExtractorTool\n\u001b[1;32m      6\u001b[0m \u001b[39mfrom\u001b[39;00m \u001b[39mapp\u001b[39;00m\u001b[39m.\u001b[39;00m\u001b[39massistant_response_router\u001b[39;00m \u001b[39mimport\u001b[39;00m AssistantResponseRouter\n\u001b[0;32m----> 7\u001b[0m \u001b[39mfrom\u001b[39;00m \u001b[39mapp\u001b[39;00m\u001b[39m.\u001b[39;00m\u001b[39magents\u001b[39;00m \u001b[39mimport\u001b[39;00m load_information_agent, get_create_booking_agent, get_booking_conversation_agent\n",
      "File \u001b[0;32m~/workspace/bnbot/app/agents/__init__.py:3\u001b[0m\n\u001b[1;32m      1\u001b[0m \u001b[39mfrom\u001b[39;00m \u001b[39m.\u001b[39;00m\u001b[39mload_information_agent\u001b[39;00m \u001b[39mimport\u001b[39;00m load_information_agent\n\u001b[1;32m      2\u001b[0m \u001b[39mfrom\u001b[39;00m \u001b[39m.\u001b[39;00m\u001b[39mcreate_booking_agent\u001b[39;00m \u001b[39mimport\u001b[39;00m get_create_booking_agent\n\u001b[0;32m----> 3\u001b[0m \u001b[39mfrom\u001b[39;00m \u001b[39m.\u001b[39;00m\u001b[39mbooking_conversation_agent\u001b[39;00m \u001b[39mimport\u001b[39;00m get_booking_conversation_agent\n",
      "File \u001b[0;32m~/workspace/bnbot/app/agents/booking_conversation_agent.py:7\u001b[0m\n\u001b[1;32m      5\u001b[0m \u001b[39mfrom\u001b[39;00m \u001b[39mlangchain\u001b[39;00m\u001b[39m.\u001b[39;00m\u001b[39mmemory\u001b[39;00m \u001b[39mimport\u001b[39;00m ConversationBufferMemory\n\u001b[1;32m      6\u001b[0m \u001b[39mfrom\u001b[39;00m \u001b[39mlangchain\u001b[39;00m\u001b[39m.\u001b[39;00m\u001b[39magents\u001b[39;00m \u001b[39mimport\u001b[39;00m initialize_agent\n\u001b[0;32m----> 7\u001b[0m \u001b[39mfrom\u001b[39;00m \u001b[39m.\u001b[39;00m\u001b[39m.\u001b[39;00m\u001b[39mtools\u001b[39;00m\u001b[39m.\u001b[39;00m\u001b[39mconversation\u001b[39;00m \u001b[39mimport\u001b[39;00m InfoExtractorTool, CreateBookingTool, LocationInformationTool, PropertiesFilterTool, PropertiesSummarizerTool, UserInfoExtractorTool\n\u001b[1;32m      9\u001b[0m tools \u001b[39m=\u001b[39m [\n\u001b[1;32m     10\u001b[0m     InfoExtractorTool(), \n\u001b[1;32m     11\u001b[0m     \u001b[39m# PropertiesFilterTool(), \u001b[39;00m\n\u001b[0;32m   (...)\u001b[0m\n\u001b[1;32m     14\u001b[0m     \u001b[39m# CreateBookingTool(return_direct=True)\u001b[39;00m\n\u001b[1;32m     15\u001b[0m ]\n\u001b[1;32m     17\u001b[0m system_message\u001b[39m=\u001b[39m\u001b[39m\"\"\"\u001b[39m\u001b[39mYou are an Assistant that helps users book a house to stay at \u001b[39m\u001b[39m\"\u001b[39m\u001b[39mComplejo Enrique Joaquin\u001b[39m\u001b[39m\"\u001b[39m\u001b[39m located in Mercedes, Uruguay.\u001b[39m\n\u001b[1;32m     18\u001b[0m \u001b[39mUsers can only reserve one house at a time.\u001b[39m\u001b[39m\"\"\"\u001b[39m\n",
      "File \u001b[0;32m~/workspace/bnbot/app/tools/conversation/__init__.py:1\u001b[0m\n\u001b[0;32m----> 1\u001b[0m \u001b[39mfrom\u001b[39;00m \u001b[39m.\u001b[39;00m\u001b[39minfo_extractor_tool\u001b[39;00m \u001b[39mimport\u001b[39;00m InfoExtractorTool\n\u001b[1;32m      2\u001b[0m \u001b[39mfrom\u001b[39;00m \u001b[39m.\u001b[39;00m\u001b[39mproperties_filter_tool\u001b[39;00m \u001b[39mimport\u001b[39;00m PropertiesFilterTool\n\u001b[1;32m      3\u001b[0m \u001b[39mfrom\u001b[39;00m \u001b[39m.\u001b[39;00m\u001b[39mproperties_summarizer_tool\u001b[39;00m \u001b[39mimport\u001b[39;00m PropertiesSummarizerTool\n",
      "File \u001b[0;32m~/workspace/bnbot/app/tools/conversation/info_extractor_tool.py:60\u001b[0m\n\u001b[1;32m     56\u001b[0m         info \u001b[39m=\u001b[39m \u001b[39mself\u001b[39m\u001b[39m.\u001b[39mchain({\u001b[39m\"\u001b[39m\u001b[39mtime\u001b[39m\u001b[39m\"\u001b[39m:formatted_date, \u001b[39m\"\u001b[39m\u001b[39mquery\u001b[39m\u001b[39m\"\u001b[39m:query,  \u001b[39m\"\u001b[39m\u001b[39mchat_history\u001b[39m\u001b[39m\"\u001b[39m: chat_history})\n\u001b[1;32m     57\u001b[0m         \u001b[39mreturn\u001b[39;00m info[\u001b[39m\"\u001b[39m\u001b[39mbooking_information\u001b[39m\u001b[39m\"\u001b[39m]\n\u001b[0;32m---> 60\u001b[0m \u001b[39mclass\u001b[39;49;00m \u001b[39mInfoExtractorTool\u001b[39;49;00m(BaseTool):\n\u001b[1;32m     61\u001b[0m     name \u001b[39m=\u001b[39;49m \u001b[39m\"\u001b[39;49m\u001b[39minfo_extractor\u001b[39;49m\u001b[39m\"\u001b[39;49m\n\u001b[1;32m     62\u001b[0m     description \u001b[39m=\u001b[39;49m \u001b[39m\"\u001b[39;49m\u001b[39museful for when you need to calculate the check-in, check-out and number of guests from the query and chat_history.\u001b[39;49m\u001b[39m\"\u001b[39;49m\n",
      "File \u001b[0;32m~/workspace/bnbot/app/tools/conversation/info_extractor_tool.py:64\u001b[0m, in \u001b[0;36mInfoExtractorTool\u001b[0;34m()\u001b[0m\n\u001b[1;32m     61\u001b[0m name \u001b[39m=\u001b[39m \u001b[39m\"\u001b[39m\u001b[39minfo_extractor\u001b[39m\u001b[39m\"\u001b[39m\n\u001b[1;32m     62\u001b[0m description \u001b[39m=\u001b[39m \u001b[39m\"\u001b[39m\u001b[39museful for when you need to calculate the check-in, check-out and number of guests from the query and chat_history.\u001b[39m\u001b[39m\"\u001b[39m\n\u001b[0;32m---> 64\u001b[0m booking_info_extractor \u001b[39m=\u001b[39m InfoExtractorChain()\n\u001b[1;32m     66\u001b[0m \u001b[39mdef\u001b[39;00m \u001b[39m_run\u001b[39m(\n\u001b[1;32m     67\u001b[0m     \u001b[39mself\u001b[39m, query: \u001b[39mstr\u001b[39m, chat_history: \u001b[39mstr\u001b[39m, run_manager: Optional[CallbackManagerForToolRun] \u001b[39m=\u001b[39m \u001b[39mNone\u001b[39;00m\n\u001b[1;32m     68\u001b[0m ) \u001b[39m-\u001b[39m\u001b[39m>\u001b[39m \u001b[39mstr\u001b[39m:\n\u001b[1;32m     69\u001b[0m \u001b[39m    \u001b[39m\u001b[39m\"\"\"Use the tool.\"\"\"\u001b[39;00m\n",
      "File \u001b[0;32m~/workspace/bnbot/app/tools/conversation/info_extractor_tool.py:38\u001b[0m, in \u001b[0;36mInfoExtractorChain.__init__\u001b[0;34m(self)\u001b[0m\n\u001b[1;32m     34\u001b[0m \u001b[39mdef\u001b[39;00m \u001b[39m__init__\u001b[39m(\u001b[39mself\u001b[39m):\n\u001b[1;32m     36\u001b[0m     llm \u001b[39m=\u001b[39m OpenAI(temperature\u001b[39m=\u001b[39m\u001b[39m0.\u001b[39m)\n\u001b[0;32m---> 38\u001b[0m     \u001b[39mself\u001b[39m\u001b[39m.\u001b[39moutput_parser \u001b[39m=\u001b[39m StructuredOutputParser\u001b[39m.\u001b[39mfrom_response_schemas(response_schemas)\n\u001b[1;32m     39\u001b[0m     format_instructions \u001b[39m=\u001b[39m\u001b[39mself\u001b[39m\u001b[39m.\u001b[39moutput_parser\u001b[39m.\u001b[39mget_format_instructions()\n\u001b[1;32m     41\u001b[0m     prompt_template \u001b[39m=\u001b[39m PromptTemplate(\n\u001b[1;32m     42\u001b[0m         input_variables\u001b[39m=\u001b[39m[\u001b[39m\"\u001b[39m\u001b[39mtime\u001b[39m\u001b[39m\"\u001b[39m, \u001b[39m\"\u001b[39m\u001b[39mquery\u001b[39m\u001b[39m\"\u001b[39m, \u001b[39m\"\u001b[39m\u001b[39mchat_history\u001b[39m\u001b[39m\"\u001b[39m], \n\u001b[1;32m     43\u001b[0m         partial_variables\u001b[39m=\u001b[39m{\u001b[39m\"\u001b[39m\u001b[39mformat_instructions\u001b[39m\u001b[39m\"\u001b[39m: format_instructions},\n\u001b[1;32m     44\u001b[0m         template\u001b[39m=\u001b[39mtemplate\n\u001b[1;32m     45\u001b[0m     )\n",
      "\u001b[0;31mNameError\u001b[0m: name 'response_schemas' is not defined"
     ]
    }
   ],
   "source": [
    "from app.system import System\n",
    "from app.assistant import Assistant\n",
    "from app.assistant_response_router import AssistantResponseRouter\n",
    "\n",
    "from app.tools import PropertiesFilterTool, InfoExtractorTool\n",
    "from app.assistant_response_router import AssistantResponseRouter\n",
    "from app.agents import load_information_agent, get_create_booking_agent, get_booking_conversation_agent\n"
   ]
  },
  {
   "cell_type": "code",
   "execution_count": null,
   "metadata": {},
   "outputs": [],
   "source": [
    "system = System()\n",
    "assistant = Assistant()\n",
    "assistant_response_router = AssistantResponseRouter()\n",
    "\n"
   ]
  },
  {
   "cell_type": "code",
   "execution_count": null,
   "metadata": {},
   "outputs": [],
   "source": [
    "def handler(message, customer_number=\"99513718\"):\n",
    "    conversation = system.get_conversation(customer_number)\n",
    "    print(f\"Conversation: {conversation}\")\n",
    "    # create_booking_agent = get_create_booking_agent(conversation)\n",
    "    create_booking_agent = get_booking_conversation_agent(conversation)\n",
    "    system.add_user_message(message, customer_number)\n",
    "    print(f\"New Conversation: {system.get_conversation(customer_number)}\")\n",
    "\n",
    "    \n",
    "    assistant_response = create_booking_agent.run(input=message)\n",
    "    system.add_assistant_message(assistant_response, customer_number)\n",
    "    # assistant_response = assistant.run(message, conversation)\n",
    "    print(f\"Assistant Response: {assistant_response}\")\n",
    "\n",
    "    # # assistant_response_router_input = system.get_conversation_string(customer_number)\n",
    "    # print(f\"Assistant Response Router Input: {assistant_response}\")\n",
    "    # next_action = assistant_response_router(assistant_response)\n",
    "    # print(f\"Next Action: {next_action}\")\n",
    "    # if \"load_properties_information\" in next_action[\"action\"]:\n",
    "    #     print(f\"Loading properties...\")\n",
    "    #     properties_info_response = load_information_agent.run(input=system.get_conversation_string(customer_number))\n",
    "    #     if properties_info_response != \"\":\n",
    "    #         # system.add_assistant_message(properties_info_response, customer_number)\n",
    "    #         print(f\"Updating conversation with Properties loaded\")\n",
    "    #         system.add_system_message(properties_info_response[\"text\"], customer_number)\n",
    "    #         print(f\"Getting new response from Assistant\")\n",
    "    #         new_assistant_response = assistant.get_completion_from_messages(system.get_conversation(customer_number))\n",
    "    #         system.add_assistant_message(new_assistant_response, customer_number)\n",
    "    #         return new_assistant_response\n",
    "    #     else:\n",
    "    #         print(f\"Not information loaded from properties, continuew conversation.\")\n",
    "    #         system.add_assistant_message(assistant_response, customer_number)\n",
    "    #         return assistant_response\n",
    "    # elif \"pre_booking\" in next_action[\"action\"]:\n",
    "    #     print(f\"Creating pre booking...\")\n",
    "    #     properties_info_response = create_booking_agent.run(input=system.get_conversation_string(customer_number))\n",
    "    #     print(f\"Booking created: {properties_info_response}\")\n",
    "    # else:\n",
    "    #     print(f\"Continue with conversation.\")\n",
    "    #     system.add_assistant_message(assistant_response, customer_number)\n",
    "    #     return assistant_response\n",
    "\n"
   ]
  },
  {
   "cell_type": "code",
   "execution_count": 3,
   "metadata": {},
   "outputs": [
    {
     "ename": "NameError",
     "evalue": "name 'handler' is not defined",
     "output_type": "error",
     "traceback": [
      "\u001b[0;31m---------------------------------------------------------------------------\u001b[0m",
      "\u001b[0;31mNameError\u001b[0m                                 Traceback (most recent call last)",
      "Cell \u001b[0;32mIn[3], line 2\u001b[0m\n\u001b[1;32m      1\u001b[0m \u001b[39m#handler(\"Hola\", customer_number=\"99513718\")\u001b[39;00m\n\u001b[0;32m----> 2\u001b[0m handler(\u001b[39m\"\u001b[39m\u001b[39mMe gustaria reservar una casa para 3 personas por dos noches para el 20 de junio\u001b[39m\u001b[39m\"\u001b[39m, customer_number\u001b[39m=\u001b[39m\u001b[39m\"\u001b[39m\u001b[39m99513718\u001b[39m\u001b[39m\"\u001b[39m)\n\u001b[1;32m      3\u001b[0m \u001b[39m#handler(\"22 de julio\", customer_number=\"99513718\")\u001b[39;00m\n\u001b[1;32m      4\u001b[0m \n\u001b[1;32m      5\u001b[0m \u001b[39m#handler(\"Cualquiera me sirve\", customer_number=\"99513718\")\u001b[39;00m\n\u001b[0;32m   (...)\u001b[0m\n\u001b[1;32m     14\u001b[0m \u001b[39m#handler(\"Perfecto, mer sirve\", customer_number=\"99513718\")\u001b[39;00m\n\u001b[1;32m     15\u001b[0m \u001b[39m#handler(\"Aca te paso: Agustin Sarasua, a@gmail.com, 099513718\", customer_number=\"99513718\")\u001b[39;00m\n",
      "\u001b[0;31mNameError\u001b[0m: name 'handler' is not defined"
     ]
    }
   ],
   "source": [
    "#handler(\"Hola\", customer_number=\"99513718\")\n",
    "handler(\"Me gustaria reservar una casa para 3 personas por dos noches para el 20 de junio\", customer_number=\"99513718\")\n",
    "#handler(\"22 de julio\", customer_number=\"99513718\")\n",
    "\n",
    "#handler(\"Cualquiera me sirve\", customer_number=\"99513718\")\n",
    "\n",
    "#handler(\"Perfecto, me gustaria reservar la propiedad Sol\", customer_number=\"99513718\")\n",
    "#handler(\"Agustin Sarasua, a@gmail.com, 099513718\", customer_number=\"99513718\")\n",
    "\n",
    "\n",
    "#handler(\" 3 personas para el 20 de junio por 2 noches\", customer_number=\"99513718\")\n",
    "#handler(\"En mercedes, la mas economica\", customer_number=\"99513718\")\n",
    "\n",
    "#handler(\"Perfecto, mer sirve\", customer_number=\"99513718\")\n",
    "#handler(\"Aca te paso: Agustin Sarasua, a@gmail.com, 099513718\", customer_number=\"99513718\")\n",
    "\n"
   ]
  },
  {
   "cell_type": "code",
   "execution_count": 6,
   "metadata": {},
   "outputs": [
    {
     "name": "stdout",
     "output_type": "stream",
     "text": [
      "Conversation: [{'role': 'user', 'content': 'Me gustaria reservar una casa para 3 personas por dos noches para el 20 de junio'}, {'role': 'assistant', 'content': \"Tenemos dos propiedades disponibles para alquilar. La primera es la Cabaña 'Sol', una lujosa villa con vistas panorámicas a las montañas, una piscina privada, jardines exuberantes y una terraza para disfrutar de las maravillosas vistas. Esta propiedad cuenta con Wi-Fi, estacionamiento privado, mascotas permitidas, parrilla y un precio de 250 USD por noche. La segunda propiedad es la Cabaña 'Luna', que ofrece los mismos servicios que la Cabaña 'Sol', pero con un precio de 120 USD por noche. ¿Cuál prefieres?\"}]\n",
      "New Conversation: [{'role': 'user', 'content': 'Me gustaria reservar una casa para 3 personas por dos noches para el 20 de junio'}, {'role': 'assistant', 'content': \"Tenemos dos propiedades disponibles para alquilar. La primera es la Cabaña 'Sol', una lujosa villa con vistas panorámicas a las montañas, una piscina privada, jardines exuberantes y una terraza para disfrutar de las maravillosas vistas. Esta propiedad cuenta con Wi-Fi, estacionamiento privado, mascotas permitidas, parrilla y un precio de 250 USD por noche. La segunda propiedad es la Cabaña 'Luna', que ofrece los mismos servicios que la Cabaña 'Sol', pero con un precio de 120 USD por noche. ¿Cuál prefieres?\"}, {'role': 'user', 'content': 'La cabaña Sol, por favor'}]\n",
      "\n",
      "\n",
      "\u001b[1m> Entering new  chain...\u001b[0m\n",
      "\u001b[32;1m\u001b[1;3mPerfecto. Para reservar la Cabaña 'Sol' necesito que me proporciones algunos datos. ¿Podrías decirme la fecha de entrada y salida? También necesito saber cuántas personas se hospedarán en la propiedad.\u001b[0m\n",
      "\n",
      "\u001b[1m> Finished chain.\u001b[0m\n",
      "Assistant Response: Perfecto. Para reservar la Cabaña 'Sol' necesito que me proporciones algunos datos. ¿Podrías decirme la fecha de entrada y salida? También necesito saber cuántas personas se hospedarán en la propiedad.\n"
     ]
    }
   ],
   "source": [
    "handler(\"La cabaña Sol, por favor\", customer_number=\"99513718\")\n",
    "\n",
    "# info_extractor_tool = InfoExtractorTool()\n",
    "# info_extractor_tool_result = info_extractor_tool.run({\"query\": \"Hola, me gustaria alquilar una casa para el 2 de setiembre para 3 personas por 2 noches\"})\n",
    "# info_extractor_tool_result\n",
    "# # models = get_models_tool.run({\"query_params\": {\"search\": \"gpt-j\"}})\n",
    "\n",
    "\n",
    "# properties_filter_tool = PropertiesFilterTool()\n",
    "# properties_filter_tool.run({'checkin_date': '2023-06-20',\n",
    "#  'checkout_date': '2023-06-23',\n",
    "#  'num_nights': '3',\n",
    "#  'num_guests': '3'})\n"
   ]
  },
  {
   "cell_type": "code",
   "execution_count": 14,
   "metadata": {},
   "outputs": [
    {
     "data": {
      "text/plain": [
       "[{'role': 'user',\n",
       "  'content': 'Me gustaria reservar una casa para 3 personas por dos noches para el 20 de junio'},\n",
       " {'role': 'assistant',\n",
       "  'content': \"Tenemos dos propiedades disponibles para alquilar. La primera es la Cabaña 'Sol', una lujosa villa con vistas panorámicas a las montañas, una piscina privada, jardines exuberantes y una terraza para disfrutar de las maravillosas vistas. La segunda es la Cabaña 'Luna', que ofrece los mismos servicios que la Cabaña 'Sol'. Ambos alojamientos cuentan con Wi-Fi, estacionamiento privado, mascotas permitidas, barbacoa y piscina privada. ¿Cuál de las dos propiedades le gustaría reservar?\"}]"
      ]
     },
     "execution_count": 14,
     "metadata": {},
     "output_type": "execute_result"
    }
   ],
   "source": [
    "new_conv = system.get_conversation(\"99513718\")[:2]\n",
    "system.save_conversation(\"99513718\", new_conv)\n",
    "new_conv"
   ]
  },
  {
   "cell_type": "code",
   "execution_count": 12,
   "metadata": {},
   "outputs": [
    {
     "data": {
      "text/plain": [
       "[{'role': 'user',\n",
       "  'content': 'Me gustaria reservar una casa para 3 personas por dos noches para el 20 de junio'},\n",
       " {'role': 'assistant',\n",
       "  'content': \"Tenemos dos propiedades disponibles para alquilar. La primera es la Cabaña 'Sol', una lujosa villa con vistas panorámicas a las montañas, una piscina privada, jardines exuberantes y una terraza para disfrutar de las maravillosas vistas. La segunda es la Cabaña 'Luna', que ofrece los mismos servicios que la Cabaña 'Sol'. Ambos alojamientos cuentan con Wi-Fi, estacionamiento privado, mascotas permitidas, barbacoa y piscina privada. ¿Cuál de las dos propiedades le gustaría reservar?\"}]"
      ]
     },
     "execution_count": 12,
     "metadata": {},
     "output_type": "execute_result"
    }
   ],
   "source": [
    "#handler(\"Si, por favor\", customer_number=\"99513718\")\n",
    "system.get_conversation(\"99513718\")"
   ]
  },
  {
   "cell_type": "code",
   "execution_count": 8,
   "metadata": {},
   "outputs": [
    {
     "name": "stdout",
     "output_type": "stream",
     "text": [
      "Conversation: [{'role': 'user', 'content': 'Me gustaria reservar una casa para 3 personas por dos noches para el 20 de junio'}, {'role': 'user', 'content': 'La cabaña Sol, por favor'}, {'role': 'user', 'content': 'Si, por favor'}]\n",
      "New Conversation: [{'role': 'user', 'content': 'Me gustaria reservar una casa para 3 personas por dos noches para el 20 de junio'}, {'role': 'user', 'content': 'La cabaña Sol, por favor'}, {'role': 'user', 'content': 'Si, por favor'}, {'role': 'user', 'content': 'Agustin Sarasua, agustin@gmail.com'}]\n",
      "\n",
      "\n",
      "\u001b[1m> Entering new  chain...\u001b[0m\n",
      "\u001b[32;1m\u001b[1;3mAction:\n",
      "```\n",
      "{\n",
      "  \"action\": \"info_extractor\",\n",
      "  \"action_input\": {\n",
      "    \"query\": \"Reservar la cabaña Sol para 3 personas por dos noches para el 20 de junio. Agustin Sarasua, agustin@gmail.com\"\n",
      "  }\n",
      "}\n",
      "``` \n",
      "\u001b[0m\n",
      "\n",
      "\u001b[1m> Entering new  chain...\u001b[0m\n",
      "Prompt after formatting:\n",
      "\u001b[32;1m\u001b[1;3mGiven a conversation between a user and an assistant about booking a house for short-term stay. Your job is to extract the check-in date, checkout-date and number of nights from the query.\n",
      "If the year is not specified in the query, assume it is after today, same year or at most next year if the month is before current month.\n",
      "Today is 18 June 2023.\n",
      "\n",
      "Here is the conversation: \n",
      "Reservar la cabaña Sol para 3 personas por dos noches para el 20 de junio. Agustin Sarasua, agustin@gmail.com\n",
      "\n",
      "The output should be a markdown code snippet formatted in the following schema, including the leading and trailing \"```json\" and \"```\":\n",
      "\n",
      "```json\n",
      "{\n",
      "\t\"checkin_date\": string  // reservation Check-In date formated as YYYY-MM-DD i.e: 2023-09-24. If not present, set an empty string.\n",
      "\t\"checkout_date\": string  // reservation Check-Out date formated as YYYY-MM-DD i.e: 2023-09-24. If not present, set an empty string.\n",
      "\t\"num_nights\": string  // Number of nights the customer is staying. If not present, set an empty string.\n",
      "\t\"num_guests\": string  // Number of guests staying in the house. If not present, set an empty string\n",
      "}\n",
      "```\u001b[0m\n",
      "\n",
      "\u001b[1m> Finished chain.\u001b[0m\n",
      "\n",
      "Observation: \u001b[36;1m\u001b[1;3m{'checkin_date': '2023-06-20', 'checkout_date': '2023-06-22', 'num_nights': '2', 'num_guests': '3'}\u001b[0m\n",
      "Thought:\u001b[32;1m\u001b[1;3mNecesito filtrar las propiedades disponibles para las fechas y la cantidad de huéspedes especificados por el usuario. \n",
      "\n",
      "Action:\n",
      "```\n",
      "{\n",
      "  \"action\": \"properties_filter\",\n",
      "  \"action_input\": {\n",
      "    \"checkin_date\": \"2023-06-20\",\n",
      "    \"checkout_date\": \"2023-06-22\",\n",
      "    \"num_guests\": \"3\",\n",
      "    \"num_nights\": \"2\"\n",
      "  }\n",
      "}\n",
      "``` \n",
      "\n",
      "\u001b[0m\n",
      "Observation: \u001b[33;1m\u001b[1;3m{'Sol': {'property_id': 'Sol', 'name': 'Cabaña \"Sol\"', 'description': 'Impresionante villa con vistas panorámicas a las montañas. Esta lujosa propiedad ofrece un ambiente tranquilo y relajante con amplios espacios interiores y exteriores. Cuenta con una piscina privada, jardines exuberantes y una terraza para disfrutar de las maravillosas vistas. Perfecta para escapadas en familia o con amigos.', 'amenities': ['Wi-Fi', 'private parking', 'pet-friendly', 'barbecue', 'private pool'], 'price': '250.0', 'currency': 'USD', 'max_guests': '8', 'how_to_arrive_instructions': 'El complejo queda en ruta 2 km 287, cerca del pejae. Yendo para Fray Bentos desde Mercedes a mano izquierda. Aqui esta la ubicacion en google maps: https://goo.gl/maps/R8gQZDHVXr2tiPQA8', 'pick_up_keys_instructions': 'Las llaves se encuentran en un box en la puerta de entrada. La clave para abrir el box es 12345.'}, 'Luna': {'property_id': 'Luna', 'name': 'Cabaña \"Luna\"', 'description': 'Impresionante villa con vistas panorámicas a las montañas. Esta lujosa propiedad ofrece un ambiente tranquilo y relajante con amplios espacios interiores y exteriores. Cuenta con una piscina privada, jardines exuberantes y una terraza para disfrutar de las maravillosas vistas. Perfecta para escapadas en familia o con amigos.', 'amenities': ['Wi-Fi', 'private parking', 'pet-friendly', 'barbecue', 'private pool'], 'price': '120', 'currency': 'USD', 'max_guests': '4', 'how_to_arrive_instructions': 'El complejo queda en ruta 2 km 287, cerca del pejae. Yendo para Fray Bentos desde Mercedes a mano izquierda. Aqui esta la ubicacion en google maps: https://goo.gl/maps/R8gQZDHVXr2tiPQA8', 'pick_up_keys_instructions': 'Las llaves se encuentran en un box en la puerta de entrada. La clave para abrir el box es 12345.'}}\u001b[0m\n",
      "Thought:\u001b[32;1m\u001b[1;3mTenemos dos opciones disponibles para las fechas y cantidad de huéspedes especificados por el usuario. Necesito resumir la información de estas propiedades para que el usuario pueda elegir una. \n",
      "\n",
      "Action:\n",
      "```\n",
      "{\n",
      "  \"action\": \"properties_summarizer\",\n",
      "  \"action_input\": {\n",
      "    \"properties_available\": {\n",
      "      \"Sol\": {\n",
      "        \"property_id\": \"Sol\",\n",
      "        \"name\": \"Cabaña \\\"Sol\\\"\",\n",
      "        \"description\": \"Impresionante villa con vistas panorámicas a las montañas. Esta lujosa propiedad ofrece un ambiente tranquilo y relajante con amplios espacios interiores y exteriores. Cuenta con una piscina privada, jardines exuberantes y una terraza para disfrutar de las maravillosas vistas. Perfecta para escapadas en familia o con amigos.\",\n",
      "        \"amenities\": [\n",
      "          \"Wi-Fi\",\n",
      "          \"private parking\",\n",
      "          \"pet-friendly\",\n",
      "          \"barbecue\",\n",
      "          \"private pool\"\n",
      "        ],\n",
      "        \"price\": \"250.0\",\n",
      "        \"currency\": \"USD\",\n",
      "        \"max_guests\": \"8\"\n",
      "      },\n",
      "      \"Luna\": {\n",
      "        \"property_id\": \"Luna\",\n",
      "        \"name\": \"Cabaña \\\"Luna\\\"\",\n",
      "        \"description\": \"Impresionante villa con vistas panorámicas a las montañas. Esta lujosa propiedad ofrece un ambiente tranquilo y relajante con amplios espacios interiores y exteriores. Cuenta con una piscina privada, jardines exuberantes y una terraza para disfrutar de las maravillosas vistas. Perfecta para escapadas en familia o con amigos.\",\n",
      "        \"amenities\": [\n",
      "          \"Wi-Fi\",\n",
      "          \"private parking\",\n",
      "          \"pet-friendly\",\n",
      "          \"barbecue\",\n",
      "          \"private pool\"\n",
      "        ],\n",
      "        \"price\": \"120\",\n",
      "        \"currency\": \"USD\",\n",
      "        \"max_guests\": \"4\"\n",
      "      }\n",
      "    }\n",
      "  }\n",
      "}\n",
      "``` \n",
      "\n",
      "\u001b[0m\n",
      "\n",
      "\u001b[1m> Entering new  chain...\u001b[0m\n",
      "Prompt after formatting:\n",
      "\u001b[32;1m\u001b[1;3mGiven a list of available properties for rent in json format, your job is to summarize the information. You allways respond in Spanish.\n",
      "\n",
      "Here is the information about the properties: \n",
      "{'Sol': {'property_id': 'Sol', 'name': 'Cabaña \"Sol\"', 'description': 'Impresionante villa con vistas panorámicas a las montañas. Esta lujosa propiedad ofrece un ambiente tranquilo y relajante con amplios espacios interiores y exteriores. Cuenta con una piscina privada, jardines exuberantes y una terraza para disfrutar de las maravillosas vistas. Perfecta para escapadas en familia o con amigos.', 'amenities': ['Wi-Fi', 'private parking', 'pet-friendly', 'barbecue', 'private pool'], 'price': '250.0', 'currency': 'USD', 'max_guests': '8'}, 'Luna': {'property_id': 'Luna', 'name': 'Cabaña \"Luna\"', 'description': 'Impresionante villa con vistas panorámicas a las montañas. Esta lujosa propiedad ofrece un ambiente tranquilo y relajante con amplios espacios interiores y exteriores. Cuenta con una piscina privada, jardines exuberantes y una terraza para disfrutar de las maravillosas vistas. Perfecta para escapadas en familia o con amigos.', 'amenities': ['Wi-Fi', 'private parking', 'pet-friendly', 'barbecue', 'private pool'], 'price': '120', 'currency': 'USD', 'max_guests': '4'}}\n",
      "\n",
      "The output should be a markdown code snippet formatted in the following schema, including the leading and trailing \"```json\" and \"```\":\n",
      "\n",
      "```json\n",
      "{\n",
      "\t\"properties_summary\": string  // Summary of properties that are available for the user to book.\n",
      "}\n",
      "```\u001b[0m\n",
      "\n",
      "\u001b[1m> Finished chain.\u001b[0m\n",
      "\n",
      "Observation: \u001b[38;5;200m\u001b[1;3m{'properties_summary': \"Tenemos dos propiedades disponibles para alquilar: Cabaña 'Sol' y Cabaña 'Luna'. Ambos ofrecen Wi-Fi, estacionamiento privado, mascotas permitidas, barbacoa y piscina privada. La Cabaña 'Sol' puede albergar hasta 8 personas y cuesta 250 USD por noche, mientras que la Cabaña 'Luna' puede albergar hasta 4 personas y cuesta 120 USD por noche.\"}\u001b[0m\n",
      "Thought:\u001b[32;1m\u001b[1;3mNecesito presentarle al usuario la información resumida de las propiedades disponibles y preguntarle si desea reservar alguna de ellas. \n",
      "\n",
      "Action:\n",
      "```\n",
      "{\n",
      "  \"action\": \"Final Answer\",\n",
      "  \"action_input\": \"Tenemos dos propiedades disponibles para alquilar: Cabaña 'Sol' y Cabaña 'Luna'. Ambos ofrecen Wi-Fi, estacionamiento privado, mascotas permitidas, barbacoa y piscina privada. La Cabaña 'Sol' puede albergar hasta 8 personas y cuesta 250 USD por noche, mientras que la Cabaña 'Luna' puede albergar hasta 4 personas y cuesta 120 USD por noche. ¿Desea reservar alguna de estas propiedades?\"\n",
      "}\n",
      "``` \n",
      "\n",
      "\u001b[0m\n",
      "\n",
      "\u001b[1m> Finished chain.\u001b[0m\n",
      "Assistant Response: Tenemos dos propiedades disponibles para alquilar: Cabaña 'Sol' y Cabaña 'Luna'. Ambos ofrecen Wi-Fi, estacionamiento privado, mascotas permitidas, barbacoa y piscina privada. La Cabaña 'Sol' puede albergar hasta 8 personas y cuesta 250 USD por noche, mientras que la Cabaña 'Luna' puede albergar hasta 4 personas y cuesta 120 USD por noche. ¿Desea reservar alguna de estas propiedades?\n"
     ]
    }
   ],
   "source": [
    "handler(\"Agustin Sarasua, agustin@gmail.com\", customer_number=\"99513718\")"
   ]
  },
  {
   "cell_type": "code",
   "execution_count": null,
   "metadata": {},
   "outputs": [],
   "source": []
  }
 ],
 "metadata": {
  "kernelspec": {
   "display_name": ".venv",
   "language": "python",
   "name": "python3"
  },
  "language_info": {
   "codemirror_mode": {
    "name": "ipython",
    "version": 3
   },
   "file_extension": ".py",
   "mimetype": "text/x-python",
   "name": "python",
   "nbconvert_exporter": "python",
   "pygments_lexer": "ipython3",
   "version": "3.11.3"
  },
  "orig_nbformat": 4
 },
 "nbformat": 4,
 "nbformat_minor": 2
}
