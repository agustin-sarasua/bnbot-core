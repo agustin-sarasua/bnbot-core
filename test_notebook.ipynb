{
 "cells": [
  {
   "cell_type": "code",
   "execution_count": 1,
   "metadata": {},
   "outputs": [],
   "source": [
    "%reload_ext autoreload\n",
    "%autoreload 2\n",
    "\n",
    "import os\n",
    "import openai\n",
    "from dotenv import load_dotenv, find_dotenv\n",
    "_ = load_dotenv(find_dotenv()) # read local .env file\n",
    "\n",
    "openai.api_key  = os.environ['OPENAI_API_KEY']"
   ]
  },
  {
   "cell_type": "code",
   "execution_count": 3,
   "metadata": {},
   "outputs": [],
   "source": [
    "from app.system import System\n",
    "from app.assistant import Assistant\n",
    "from app.assistant_response_router import AssistantResponseRouter\n",
    "\n",
    "from app.tools import PropertiesFilterTool, InfoExtractorTool\n",
    "from app.assistant_response_router import AssistantResponseRouter\n",
    "from app.agents import load_information_agent, get_create_booking_agent, get_booking_conversation_agent, get_house_selection_agent\n"
   ]
  },
  {
   "cell_type": "code",
   "execution_count": 3,
   "metadata": {},
   "outputs": [],
   "source": [
    "system = System()\n",
    "assistant = Assistant()\n",
    "assistant_response_router = AssistantResponseRouter()\n",
    "\n"
   ]
  },
  {
   "cell_type": "code",
   "execution_count": 4,
   "metadata": {},
   "outputs": [],
   "source": [
    "def handler(message, customer_number=\"99513718\"):\n",
    "    conversation = system.get_conversation(customer_number)\n",
    "    print(f\"Conversation: {conversation}\")\n",
    "    # create_booking_agent = get_create_booking_agent(conversation)\n",
    "    create_booking_agent = get_booking_conversation_agent(conversation)\n",
    "    system.add_user_message(message, customer_number)\n",
    "    print(f\"New Conversation: {system.get_conversation(customer_number)}\")\n",
    "\n",
    "    \n",
    "    assistant_response = create_booking_agent.run(input=message)\n",
    "    system.add_assistant_message(assistant_response, customer_number)\n",
    "    # assistant_response = assistant.run(message, conversation)\n",
    "    print(f\"Assistant Response: {assistant_response}\")\n",
    "\n",
    "    # # assistant_response_router_input = system.get_conversation_string(customer_number)\n",
    "    # print(f\"Assistant Response Router Input: {assistant_response}\")\n",
    "    # next_action = assistant_response_router(assistant_response)\n",
    "    # print(f\"Next Action: {next_action}\")\n",
    "    # if \"load_properties_information\" in next_action[\"action\"]:\n",
    "    #     print(f\"Loading properties...\")\n",
    "    #     properties_info_response = load_information_agent.run(input=system.get_conversation_string(customer_number))\n",
    "    #     if properties_info_response != \"\":\n",
    "    #         # system.add_assistant_message(properties_info_response, customer_number)\n",
    "    #         print(f\"Updating conversation with Properties loaded\")\n",
    "    #         system.add_system_message(properties_info_response[\"text\"], customer_number)\n",
    "    #         print(f\"Getting new response from Assistant\")\n",
    "    #         new_assistant_response = assistant.get_completion_from_messages(system.get_conversation(customer_number))\n",
    "    #         system.add_assistant_message(new_assistant_response, customer_number)\n",
    "    #         return new_assistant_response\n",
    "    #     else:\n",
    "    #         print(f\"Not information loaded from properties, continuew conversation.\")\n",
    "    #         system.add_assistant_message(assistant_response, customer_number)\n",
    "    #         return assistant_response\n",
    "    # elif \"pre_booking\" in next_action[\"action\"]:\n",
    "    #     print(f\"Creating pre booking...\")\n",
    "    #     properties_info_response = create_booking_agent.run(input=system.get_conversation_string(customer_number))\n",
    "    #     print(f\"Booking created: {properties_info_response}\")\n",
    "    # else:\n",
    "    #     print(f\"Continue with conversation.\")\n",
    "    #     system.add_assistant_message(assistant_response, customer_number)\n",
    "    #     return assistant_response\n",
    "\n"
   ]
  },
  {
   "cell_type": "code",
   "execution_count": 5,
   "metadata": {},
   "outputs": [
    {
     "name": "stdout",
     "output_type": "stream",
     "text": [
      "Conversation: []\n",
      "New Conversation: [{'role': 'user', 'content': 'Me gustaria reservar una casa para 3 personas por dos noches para el 20 de junio'}]\n",
      "\n",
      "\n",
      "\u001b[1m> Entering new  chain...\u001b[0m\n",
      "\u001b[32;1m\u001b[1;3m{\n",
      "    \"action\": \"info_extractor\",\n",
      "    \"action_input\": \"Me gustaria reservar una casa para 3 personas por dos noches para el 20 de junio\"\n",
      "}\u001b[0m\n",
      "\n",
      "\u001b[1m> Entering new  chain...\u001b[0m\n",
      "Prompt after formatting:\n",
      "\u001b[32;1m\u001b[1;3mGiven a query containing information about a booking of an accomodation extract the check-in date, checkout-date and number of nights from the query. If the year is not specified in the query, assume it is after today, same year or at most next year if the month is before current month.\n",
      "Today is 18 June 2023.\n",
      "\n",
      "Here is the query:\n",
      "Me gustaria reservar una casa para 3 personas por dos noches para el 20 de junio\u001b[0m\n",
      "\n",
      "\u001b[1m> Finished chain.\u001b[0m\n",
      "\n",
      "Observation: \u001b[36;1m\u001b[1;3m\n",
      "\n",
      "Check-in date: 20 June 2023\n",
      "Checkout date: 22 June 2023\n",
      "Number of nights: 2\u001b[0m\n",
      "Thought:\u001b[32;1m\u001b[1;3m{\n",
      "    \"action\": \"Final Answer\",\n",
      "    \"action_input\": \"You can reserve a house for 3 people at Complejo Enrique Joaquin in Mercedes, Uruguay for 2 nights starting from June 20, 2023.\"\n",
      "}\u001b[0m\n",
      "\n",
      "\u001b[1m> Finished chain.\u001b[0m\n",
      "Assistant Response: You can reserve a house for 3 people at Complejo Enrique Joaquin in Mercedes, Uruguay for 2 nights starting from June 20, 2023.\n"
     ]
    }
   ],
   "source": [
    "#handler(\"Hola\", customer_number=\"99513718\")\n",
    "handler(\"Me gustaria reservar una casa para 3 personas por dos noches para el 20 de junio\", customer_number=\"99513718\")\n",
    "#handler(\"22 de julio\", customer_number=\"99513718\")\n",
    "\n",
    "#handler(\"Cualquiera me sirve\", customer_number=\"99513718\")\n",
    "\n",
    "#handler(\"Perfecto, me gustaria reservar la propiedad Sol\", customer_number=\"99513718\")\n",
    "#handler(\"Agustin Sarasua, a@gmail.com, 099513718\", customer_number=\"99513718\")\n",
    "\n",
    "\n",
    "#handler(\" 3 personas para el 20 de junio por 2 noches\", customer_number=\"99513718\")\n",
    "#handler(\"En mercedes, la mas economica\", customer_number=\"99513718\")\n",
    "\n",
    "#handler(\"Perfecto, mer sirve\", customer_number=\"99513718\")\n",
    "#handler(\"Aca te paso: Agustin Sarasua, a@gmail.com, 099513718\", customer_number=\"99513718\")\n",
    "\n"
   ]
  },
  {
   "cell_type": "code",
   "execution_count": 6,
   "metadata": {},
   "outputs": [
    {
     "name": "stdout",
     "output_type": "stream",
     "text": [
      "Conversation: [{'role': 'user', 'content': 'Me gustaria reservar una casa para 3 personas por dos noches para el 20 de junio'}, {'role': 'assistant', 'content': \"Tenemos dos propiedades disponibles para alquilar. La primera es la Cabaña 'Sol', una lujosa villa con vistas panorámicas a las montañas, una piscina privada, jardines exuberantes y una terraza para disfrutar de las maravillosas vistas. Esta propiedad cuenta con Wi-Fi, estacionamiento privado, mascotas permitidas, parrilla y un precio de 250 USD por noche. La segunda propiedad es la Cabaña 'Luna', que ofrece los mismos servicios que la Cabaña 'Sol', pero con un precio de 120 USD por noche. ¿Cuál prefieres?\"}]\n",
      "New Conversation: [{'role': 'user', 'content': 'Me gustaria reservar una casa para 3 personas por dos noches para el 20 de junio'}, {'role': 'assistant', 'content': \"Tenemos dos propiedades disponibles para alquilar. La primera es la Cabaña 'Sol', una lujosa villa con vistas panorámicas a las montañas, una piscina privada, jardines exuberantes y una terraza para disfrutar de las maravillosas vistas. Esta propiedad cuenta con Wi-Fi, estacionamiento privado, mascotas permitidas, parrilla y un precio de 250 USD por noche. La segunda propiedad es la Cabaña 'Luna', que ofrece los mismos servicios que la Cabaña 'Sol', pero con un precio de 120 USD por noche. ¿Cuál prefieres?\"}, {'role': 'user', 'content': 'La cabaña Sol, por favor'}]\n",
      "\n",
      "\n",
      "\u001b[1m> Entering new  chain...\u001b[0m\n",
      "\u001b[32;1m\u001b[1;3mPerfecto. Para reservar la Cabaña 'Sol' necesito que me proporciones algunos datos. ¿Podrías decirme la fecha de entrada y salida? También necesito saber cuántas personas se hospedarán en la propiedad.\u001b[0m\n",
      "\n",
      "\u001b[1m> Finished chain.\u001b[0m\n",
      "Assistant Response: Perfecto. Para reservar la Cabaña 'Sol' necesito que me proporciones algunos datos. ¿Podrías decirme la fecha de entrada y salida? También necesito saber cuántas personas se hospedarán en la propiedad.\n"
     ]
    }
   ],
   "source": [
    "handler(\"La cabaña Sol, por favor\", customer_number=\"99513718\")\n",
    "\n",
    "# info_extractor_tool = InfoExtractorTool()\n",
    "# info_extractor_tool_result = info_extractor_tool.run({\"query\": \"Hola, me gustaria alquilar una casa para el 2 de setiembre para 3 personas por 2 noches\"})\n",
    "# info_extractor_tool_result\n",
    "# # models = get_models_tool.run({\"query_params\": {\"search\": \"gpt-j\"}})\n",
    "\n",
    "\n",
    "# properties_filter_tool = PropertiesFilterTool()\n",
    "# properties_filter_tool.run({'checkin_date': '2023-06-20',\n",
    "#  'checkout_date': '2023-06-23',\n",
    "#  'num_nights': '3',\n",
    "#  'num_guests': '3'})\n"
   ]
  },
  {
   "cell_type": "code",
   "execution_count": 14,
   "metadata": {},
   "outputs": [
    {
     "data": {
      "text/plain": [
       "[{'role': 'user',\n",
       "  'content': 'Me gustaria reservar una casa para 3 personas por dos noches para el 20 de junio'},\n",
       " {'role': 'assistant',\n",
       "  'content': \"Tenemos dos propiedades disponibles para alquilar. La primera es la Cabaña 'Sol', una lujosa villa con vistas panorámicas a las montañas, una piscina privada, jardines exuberantes y una terraza para disfrutar de las maravillosas vistas. La segunda es la Cabaña 'Luna', que ofrece los mismos servicios que la Cabaña 'Sol'. Ambos alojamientos cuentan con Wi-Fi, estacionamiento privado, mascotas permitidas, barbacoa y piscina privada. ¿Cuál de las dos propiedades le gustaría reservar?\"}]"
      ]
     },
     "execution_count": 14,
     "metadata": {},
     "output_type": "execute_result"
    }
   ],
   "source": [
    "new_conv = system.get_conversation(\"99513718\")[:2]\n",
    "system.save_conversation(\"99513718\", new_conv)\n",
    "new_conv"
   ]
  },
  {
   "cell_type": "code",
   "execution_count": 12,
   "metadata": {},
   "outputs": [
    {
     "data": {
      "text/plain": [
       "[{'role': 'user',\n",
       "  'content': 'Me gustaria reservar una casa para 3 personas por dos noches para el 20 de junio'},\n",
       " {'role': 'assistant',\n",
       "  'content': \"Tenemos dos propiedades disponibles para alquilar. La primera es la Cabaña 'Sol', una lujosa villa con vistas panorámicas a las montañas, una piscina privada, jardines exuberantes y una terraza para disfrutar de las maravillosas vistas. La segunda es la Cabaña 'Luna', que ofrece los mismos servicios que la Cabaña 'Sol'. Ambos alojamientos cuentan con Wi-Fi, estacionamiento privado, mascotas permitidas, barbacoa y piscina privada. ¿Cuál de las dos propiedades le gustaría reservar?\"}]"
      ]
     },
     "execution_count": 12,
     "metadata": {},
     "output_type": "execute_result"
    }
   ],
   "source": [
    "#handler(\"Si, por favor\", customer_number=\"99513718\")\n",
    "system.get_conversation(\"99513718\")"
   ]
  },
  {
   "cell_type": "code",
   "execution_count": 8,
   "metadata": {},
   "outputs": [
    {
     "name": "stdout",
     "output_type": "stream",
     "text": [
      "Conversation: [{'role': 'user', 'content': 'Me gustaria reservar una casa para 3 personas por dos noches para el 20 de junio'}, {'role': 'user', 'content': 'La cabaña Sol, por favor'}, {'role': 'user', 'content': 'Si, por favor'}]\n",
      "New Conversation: [{'role': 'user', 'content': 'Me gustaria reservar una casa para 3 personas por dos noches para el 20 de junio'}, {'role': 'user', 'content': 'La cabaña Sol, por favor'}, {'role': 'user', 'content': 'Si, por favor'}, {'role': 'user', 'content': 'Agustin Sarasua, agustin@gmail.com'}]\n",
      "\n",
      "\n",
      "\u001b[1m> Entering new  chain...\u001b[0m\n",
      "\u001b[32;1m\u001b[1;3mAction:\n",
      "```\n",
      "{\n",
      "  \"action\": \"info_extractor\",\n",
      "  \"action_input\": {\n",
      "    \"query\": \"Reservar la cabaña Sol para 3 personas por dos noches para el 20 de junio. Agustin Sarasua, agustin@gmail.com\"\n",
      "  }\n",
      "}\n",
      "``` \n",
      "\u001b[0m\n",
      "\n",
      "\u001b[1m> Entering new  chain...\u001b[0m\n",
      "Prompt after formatting:\n",
      "\u001b[32;1m\u001b[1;3mGiven a conversation between a user and an assistant about booking a house for short-term stay. Your job is to extract the check-in date, checkout-date and number of nights from the query.\n",
      "If the year is not specified in the query, assume it is after today, same year or at most next year if the month is before current month.\n",
      "Today is 18 June 2023.\n",
      "\n",
      "Here is the conversation: \n",
      "Reservar la cabaña Sol para 3 personas por dos noches para el 20 de junio. Agustin Sarasua, agustin@gmail.com\n",
      "\n",
      "The output should be a markdown code snippet formatted in the following schema, including the leading and trailing \"```json\" and \"```\":\n",
      "\n",
      "```json\n",
      "{\n",
      "\t\"checkin_date\": string  // reservation Check-In date formated as YYYY-MM-DD i.e: 2023-09-24. If not present, set an empty string.\n",
      "\t\"checkout_date\": string  // reservation Check-Out date formated as YYYY-MM-DD i.e: 2023-09-24. If not present, set an empty string.\n",
      "\t\"num_nights\": string  // Number of nights the customer is staying. If not present, set an empty string.\n",
      "\t\"num_guests\": string  // Number of guests staying in the house. If not present, set an empty string\n",
      "}\n",
      "```\u001b[0m\n",
      "\n",
      "\u001b[1m> Finished chain.\u001b[0m\n",
      "\n",
      "Observation: \u001b[36;1m\u001b[1;3m{'checkin_date': '2023-06-20', 'checkout_date': '2023-06-22', 'num_nights': '2', 'num_guests': '3'}\u001b[0m\n",
      "Thought:\u001b[32;1m\u001b[1;3mNecesito filtrar las propiedades disponibles para las fechas y la cantidad de huéspedes especificados por el usuario. \n",
      "\n",
      "Action:\n",
      "```\n",
      "{\n",
      "  \"action\": \"properties_filter\",\n",
      "  \"action_input\": {\n",
      "    \"checkin_date\": \"2023-06-20\",\n",
      "    \"checkout_date\": \"2023-06-22\",\n",
      "    \"num_guests\": \"3\",\n",
      "    \"num_nights\": \"2\"\n",
      "  }\n",
      "}\n",
      "``` \n",
      "\n",
      "\u001b[0m\n",
      "Observation: \u001b[33;1m\u001b[1;3m{'Sol': {'property_id': 'Sol', 'name': 'Cabaña \"Sol\"', 'description': 'Impresionante villa con vistas panorámicas a las montañas. Esta lujosa propiedad ofrece un ambiente tranquilo y relajante con amplios espacios interiores y exteriores. Cuenta con una piscina privada, jardines exuberantes y una terraza para disfrutar de las maravillosas vistas. Perfecta para escapadas en familia o con amigos.', 'amenities': ['Wi-Fi', 'private parking', 'pet-friendly', 'barbecue', 'private pool'], 'price': '250.0', 'currency': 'USD', 'max_guests': '8', 'how_to_arrive_instructions': 'El complejo queda en ruta 2 km 287, cerca del pejae. Yendo para Fray Bentos desde Mercedes a mano izquierda. Aqui esta la ubicacion en google maps: https://goo.gl/maps/R8gQZDHVXr2tiPQA8', 'pick_up_keys_instructions': 'Las llaves se encuentran en un box en la puerta de entrada. La clave para abrir el box es 12345.'}, 'Luna': {'property_id': 'Luna', 'name': 'Cabaña \"Luna\"', 'description': 'Impresionante villa con vistas panorámicas a las montañas. Esta lujosa propiedad ofrece un ambiente tranquilo y relajante con amplios espacios interiores y exteriores. Cuenta con una piscina privada, jardines exuberantes y una terraza para disfrutar de las maravillosas vistas. Perfecta para escapadas en familia o con amigos.', 'amenities': ['Wi-Fi', 'private parking', 'pet-friendly', 'barbecue', 'private pool'], 'price': '120', 'currency': 'USD', 'max_guests': '4', 'how_to_arrive_instructions': 'El complejo queda en ruta 2 km 287, cerca del pejae. Yendo para Fray Bentos desde Mercedes a mano izquierda. Aqui esta la ubicacion en google maps: https://goo.gl/maps/R8gQZDHVXr2tiPQA8', 'pick_up_keys_instructions': 'Las llaves se encuentran en un box en la puerta de entrada. La clave para abrir el box es 12345.'}}\u001b[0m\n",
      "Thought:\u001b[32;1m\u001b[1;3mTenemos dos opciones disponibles para las fechas y cantidad de huéspedes especificados por el usuario. Necesito resumir la información de estas propiedades para que el usuario pueda elegir una. \n",
      "\n",
      "Action:\n",
      "```\n",
      "{\n",
      "  \"action\": \"properties_summarizer\",\n",
      "  \"action_input\": {\n",
      "    \"properties_available\": {\n",
      "      \"Sol\": {\n",
      "        \"property_id\": \"Sol\",\n",
      "        \"name\": \"Cabaña \\\"Sol\\\"\",\n",
      "        \"description\": \"Impresionante villa con vistas panorámicas a las montañas. Esta lujosa propiedad ofrece un ambiente tranquilo y relajante con amplios espacios interiores y exteriores. Cuenta con una piscina privada, jardines exuberantes y una terraza para disfrutar de las maravillosas vistas. Perfecta para escapadas en familia o con amigos.\",\n",
      "        \"amenities\": [\n",
      "          \"Wi-Fi\",\n",
      "          \"private parking\",\n",
      "          \"pet-friendly\",\n",
      "          \"barbecue\",\n",
      "          \"private pool\"\n",
      "        ],\n",
      "        \"price\": \"250.0\",\n",
      "        \"currency\": \"USD\",\n",
      "        \"max_guests\": \"8\"\n",
      "      },\n",
      "      \"Luna\": {\n",
      "        \"property_id\": \"Luna\",\n",
      "        \"name\": \"Cabaña \\\"Luna\\\"\",\n",
      "        \"description\": \"Impresionante villa con vistas panorámicas a las montañas. Esta lujosa propiedad ofrece un ambiente tranquilo y relajante con amplios espacios interiores y exteriores. Cuenta con una piscina privada, jardines exuberantes y una terraza para disfrutar de las maravillosas vistas. Perfecta para escapadas en familia o con amigos.\",\n",
      "        \"amenities\": [\n",
      "          \"Wi-Fi\",\n",
      "          \"private parking\",\n",
      "          \"pet-friendly\",\n",
      "          \"barbecue\",\n",
      "          \"private pool\"\n",
      "        ],\n",
      "        \"price\": \"120\",\n",
      "        \"currency\": \"USD\",\n",
      "        \"max_guests\": \"4\"\n",
      "      }\n",
      "    }\n",
      "  }\n",
      "}\n",
      "``` \n",
      "\n",
      "\u001b[0m\n",
      "\n",
      "\u001b[1m> Entering new  chain...\u001b[0m\n",
      "Prompt after formatting:\n",
      "\u001b[32;1m\u001b[1;3mGiven a list of available properties for rent in json format, your job is to summarize the information. You allways respond in Spanish.\n",
      "\n",
      "Here is the information about the properties: \n",
      "{'Sol': {'property_id': 'Sol', 'name': 'Cabaña \"Sol\"', 'description': 'Impresionante villa con vistas panorámicas a las montañas. Esta lujosa propiedad ofrece un ambiente tranquilo y relajante con amplios espacios interiores y exteriores. Cuenta con una piscina privada, jardines exuberantes y una terraza para disfrutar de las maravillosas vistas. Perfecta para escapadas en familia o con amigos.', 'amenities': ['Wi-Fi', 'private parking', 'pet-friendly', 'barbecue', 'private pool'], 'price': '250.0', 'currency': 'USD', 'max_guests': '8'}, 'Luna': {'property_id': 'Luna', 'name': 'Cabaña \"Luna\"', 'description': 'Impresionante villa con vistas panorámicas a las montañas. Esta lujosa propiedad ofrece un ambiente tranquilo y relajante con amplios espacios interiores y exteriores. Cuenta con una piscina privada, jardines exuberantes y una terraza para disfrutar de las maravillosas vistas. Perfecta para escapadas en familia o con amigos.', 'amenities': ['Wi-Fi', 'private parking', 'pet-friendly', 'barbecue', 'private pool'], 'price': '120', 'currency': 'USD', 'max_guests': '4'}}\n",
      "\n",
      "The output should be a markdown code snippet formatted in the following schema, including the leading and trailing \"```json\" and \"```\":\n",
      "\n",
      "```json\n",
      "{\n",
      "\t\"properties_summary\": string  // Summary of properties that are available for the user to book.\n",
      "}\n",
      "```\u001b[0m\n",
      "\n",
      "\u001b[1m> Finished chain.\u001b[0m\n",
      "\n",
      "Observation: \u001b[38;5;200m\u001b[1;3m{'properties_summary': \"Tenemos dos propiedades disponibles para alquilar: Cabaña 'Sol' y Cabaña 'Luna'. Ambos ofrecen Wi-Fi, estacionamiento privado, mascotas permitidas, barbacoa y piscina privada. La Cabaña 'Sol' puede albergar hasta 8 personas y cuesta 250 USD por noche, mientras que la Cabaña 'Luna' puede albergar hasta 4 personas y cuesta 120 USD por noche.\"}\u001b[0m\n",
      "Thought:\u001b[32;1m\u001b[1;3mNecesito presentarle al usuario la información resumida de las propiedades disponibles y preguntarle si desea reservar alguna de ellas. \n",
      "\n",
      "Action:\n",
      "```\n",
      "{\n",
      "  \"action\": \"Final Answer\",\n",
      "  \"action_input\": \"Tenemos dos propiedades disponibles para alquilar: Cabaña 'Sol' y Cabaña 'Luna'. Ambos ofrecen Wi-Fi, estacionamiento privado, mascotas permitidas, barbacoa y piscina privada. La Cabaña 'Sol' puede albergar hasta 8 personas y cuesta 250 USD por noche, mientras que la Cabaña 'Luna' puede albergar hasta 4 personas y cuesta 120 USD por noche. ¿Desea reservar alguna de estas propiedades?\"\n",
      "}\n",
      "``` \n",
      "\n",
      "\u001b[0m\n",
      "\n",
      "\u001b[1m> Finished chain.\u001b[0m\n",
      "Assistant Response: Tenemos dos propiedades disponibles para alquilar: Cabaña 'Sol' y Cabaña 'Luna'. Ambos ofrecen Wi-Fi, estacionamiento privado, mascotas permitidas, barbacoa y piscina privada. La Cabaña 'Sol' puede albergar hasta 8 personas y cuesta 250 USD por noche, mientras que la Cabaña 'Luna' puede albergar hasta 4 personas y cuesta 120 USD por noche. ¿Desea reservar alguna de estas propiedades?\n"
     ]
    }
   ],
   "source": [
    "handler(\"Agustin Sarasua, agustin@gmail.com\", customer_number=\"99513718\")"
   ]
  },
  {
   "cell_type": "code",
   "execution_count": 1,
   "metadata": {},
   "outputs": [],
   "source": [
    "\n",
    "# make_reservation_task = Task(\n",
    "#     \"MAKE_RESERVATION\", \n",
    "#     [Step(\"GATHER_BOOKING_INFO\"), Step(\"HOUSE_SELECTION\"), Step(\"GATHER_USER_INFORMATION\"), Step(\"CHECKOUT\")])\n",
    "\n"
   ]
  },
  {
   "cell_type": "code",
   "execution_count": 4,
   "metadata": {},
   "outputs": [],
   "source": [
    "from app.system import Conversation, Task, Step\n",
    "from app.task_resolver import GatherBookingInfoResolver\n",
    "from app.system import System\n",
    "\n",
    "system_x = System()\n",
    "step = Step(\"GATHER_BOOKING_INFO\", GatherBookingInfoResolver())\n",
    "customer_number=\"99513718\"\n",
    "\n",
    "def test_step(message, customer_number=\"99513718\"):\n",
    "    system_x.add_user_message(message, customer_number)\n",
    "    conversation = system_x.get_conversation(customer_number)\n",
    "    print(f\"Conversation: {conversation}\")\n",
    "    result = step.resolve(conversation)\n",
    "\n",
    "    print(f\"Result: {result} \\nStep Done: {step.is_done()}\")\n",
    "    if not step.is_done():\n",
    "        system_x.add_assistant_message(result, customer_number)\n",
    "    else:\n",
    "        print(\"Step is Done, we can move to the next step.\")"
   ]
  },
  {
   "cell_type": "code",
   "execution_count": 5,
   "metadata": {},
   "outputs": [
    {
     "name": "stdout",
     "output_type": "stream",
     "text": [
      "Conversation: [{'role': 'user', 'content': '2 personas para el sabado por 2 noches'}]\n",
      "Assistant Response: ¡Hola! Gracias por contactarnos. ¿Podrías proporcionarme la fecha de check-in y la fecha de check-out por favor?\n",
      "\n",
      "\n",
      "\u001b[1m> Entering new  chain...\u001b[0m\n",
      "Prompt after formatting:\n",
      "\u001b[32;1m\u001b[1;3mGiven a conversation between a user and an assistant about booking a house for short-term stay. Your job is to extract the check-in date, checkout-date and number of nights from the query.\n",
      "If the year is not specified in the query, assume it is after today, same year or at most next year if the month is before current month.\n",
      "Today is 19 June 2023.\n",
      "\n",
      "\n",
      "\n",
      "Here is the conversation: \n",
      "user: 2 personas para el sabado por 2 noches\n",
      "\n",
      "\n",
      "The output should be a markdown code snippet formatted in the following schema, including the leading and trailing \"```json\" and \"```\":\n",
      "\n",
      "```json\n",
      "{\n",
      "\t\"checkin_date\": string  // reservation Check-In date formated as YYYY-MM-DD i.e: 2023-09-24. If not present, set an empty string.\n",
      "\t\"checkout_date\": string  // reservation Check-Out date formated as YYYY-MM-DD i.e: 2023-09-24. If not present, set an empty string.\n",
      "\t\"num_nights\": string  // Number of nights the customer is staying. If not present, set 0.\n",
      "\t\"num_guests\": string  // Number of guests staying in the house. If not present, set 0.\n",
      "}\n",
      "```\u001b[0m\n",
      "\n",
      "\u001b[1m> Finished chain.\u001b[0m\n",
      "GatherBookingInfoResolver output: {'checkin_date': '2023-06-19', 'checkout_date': '2023-06-21', 'num_nights': 2, 'num_guests': 2}\n",
      "Result: ¡Hola! Gracias por contactarnos. ¿Podrías proporcionarme la fecha de check-in y la fecha de check-out por favor? \n",
      "Step Done: True\n",
      "Step is Done, we can move to the next step.\n"
     ]
    }
   ],
   "source": [
    "#test_step(\"Hola\")\n",
    "test_step(\"2 personas para el sabado por 2 noches\")"
   ]
  },
  {
   "cell_type": "code",
   "execution_count": 1,
   "metadata": {},
   "outputs": [],
   "source": [
    "from app.system import Conversation, Task, Step\n",
    "from app.task_resolver import GatherBookingInfoResolver, HouseSelectionResolver, GatherUserInfoResolver, BookingConfirmationResolver\n",
    "from app.system import System\n",
    "from app.task_resolver.tasks import create_make_reservation_task\n",
    "import langchain\n",
    "\n",
    "system_x = System()\n",
    "customer_number=\"99513718\"\n",
    "\n",
    "make_reservation_task = create_make_reservation_task()\n",
    "\n",
    "def test_task(message, customer_number=\"99513718\"):\n",
    "    \n",
    "    system_x.add_user_message(message, customer_number)\n",
    "    conversation = system_x.get_conversation(customer_number)\n",
    "    print(f\"Conversation: {conversation}\")\n",
    "    response = make_reservation_task.run(conversation)\n",
    "    system_x.add_assistant_message(response, customer_number)\n",
    "    return response\n",
    "    # system_x.add_user_message(message, customer_number)\n",
    "    # conversation = system_x.get_conversation(customer_number)\n",
    "    # print(f\"Conversation: {conversation}\")\n",
    "    # result = step.resolve(conversation)\n",
    "\n",
    "    # print(f\"Result: {result} \\nStep Done: {step.is_done()}\")\n",
    "    # if not step.is_done():\n",
    "    #     system_x.add_assistant_message(result, customer_number)\n",
    "    # else:\n",
    "    #     print(\"Step is Done, we can move to the next step.\")"
   ]
  },
  {
   "cell_type": "code",
   "execution_count": 4,
   "metadata": {},
   "outputs": [
    {
     "data": {
      "text/plain": [
       "[{'role': 'user',\n",
       "  'content': 'Hola, me gustaria reservar una casa para el sabado que viene por dos noches para 3 personas.'},\n",
       " {'role': 'assistant',\n",
       "  'content': 'Hola! Tenemos dos propiedades disponibles: \\n\\n1. Cabaña Sol: Impresionante villa con vistas panorámicas a las montañas. Esta lujosa propiedad ofrece un ambiente tranquilo y relajante con amplios espacios interiores y exteriores. Cuenta con una piscina privada, jardines exuberantes y una terraza para disfrutar de las maravillosas vistas. Perfecta para escapadas en familia o con amigos. Precio por noche: 250.0 USD\\n\\n2. Cabaña Luna: Impresionante villa con vistas panorámicas a las montañas. Esta lujosa propiedad ofrece un ambiente tranquilo y relajante con amplios espacios interiores y exteriores. Cuenta con una piscina privada, jardines exuberantes y una terraza para disfrutar de las maravillosas vistas. Perfecta para escapadas en familia o con amigos. Precio por noche: 120.0 USD\\n\\nPor favor, seleccione una propiedad para hacer la reserva.'},\n",
       " {'role': 'user', 'content': 'La mas barata'},\n",
       " {'role': 'assistant',\n",
       "  'content': 'Perfecto, la Cabaña Luna está disponible. Por favor, proporcione su nombre y correo electrónico para hacer la reserva.'},\n",
       " {'role': 'user', 'content': 'Agustin Sarasua, agustinsarasua@gmail.com'},\n",
       " {'role': 'assistant',\n",
       "  'content': '¿Desea confirmar la reserva con los siguientes datos?\\n\\nNombre: Agustin Sarasua\\nEmail: agustinsarasua@gmail.com\\nCheck-in: 2023-06-26\\nCheck-out: 2023-06-28\\nNúmero de huéspedes: 3\\nCasa: Luna'},\n",
       " {'role': 'user', 'content': 'Si'},\n",
       " {'role': 'assistant',\n",
       "  'content': 'La reserva ha sido realizada. Recibirá un correo electrónico con la información de la reserva y las instrucciones de pago en un plazo de 3 horas. ¡Gracias por elegir nuestro servicio!'}]"
      ]
     },
     "execution_count": 4,
     "metadata": {},
     "output_type": "execute_result"
    }
   ],
   "source": [
    "system_x.get_conversation(customer_number)"
   ]
  },
  {
   "cell_type": "code",
   "execution_count": 3,
   "metadata": {},
   "outputs": [
    {
     "name": "stdout",
     "output_type": "stream",
     "text": [
      "Conversation: [{'role': 'user', 'content': 'Hola, me gustaria reservar una casa para el sabado que viene por dos noches para 3 personas.'}, {'role': 'assistant', 'content': 'Hola! Tenemos dos propiedades disponibles: \\n\\n1. Cabaña Sol: Impresionante villa con vistas panorámicas a las montañas. Esta lujosa propiedad ofrece un ambiente tranquilo y relajante con amplios espacios interiores y exteriores. Cuenta con una piscina privada, jardines exuberantes y una terraza para disfrutar de las maravillosas vistas. Perfecta para escapadas en familia o con amigos. Precio por noche: 250.0 USD\\n\\n2. Cabaña Luna: Impresionante villa con vistas panorámicas a las montañas. Esta lujosa propiedad ofrece un ambiente tranquilo y relajante con amplios espacios interiores y exteriores. Cuenta con una piscina privada, jardines exuberantes y una terraza para disfrutar de las maravillosas vistas. Perfecta para escapadas en familia o con amigos. Precio por noche: 120.0 USD\\n\\nPor favor, seleccione una propiedad para hacer la reserva.'}, {'role': 'user', 'content': 'La mas barata'}, {'role': 'assistant', 'content': 'Perfecto, la Cabaña Luna está disponible. Por favor, proporcione su nombre y correo electrónico para hacer la reserva.'}, {'role': 'user', 'content': 'Agustin Sarasua, agustinsarasua@gmail.com'}, {'role': 'assistant', 'content': '¿Desea confirmar la reserva con los siguientes datos?\\n\\nNombre: Agustin Sarasua\\nEmail: agustinsarasua@gmail.com\\nCheck-in: 2023-06-26\\nCheck-out: 2023-06-28\\nNúmero de huéspedes: 3\\nCasa: Luna'}, {'role': 'user', 'content': 'Si'}]\n",
      "Resolving Step: BOOKING_CONFIRMATION\n",
      "\n",
      "\n",
      "\u001b[1m> Entering new  chain...\u001b[0m\n",
      "Prompt after formatting:\n",
      "\u001b[32;1m\u001b[1;3mYou are an Assistant that helps users book houses for short-term stay. \n",
      "Your task is make the user confirmed the booking based on the conversation.\n",
      "You allways respond in Spanish.\n",
      "Follow these Steps before responding to the user new message:\n",
      "\n",
      "Step 1: Ask the user if he wants to place the booking by showing him a summary of the booking. You must NOT great the customer when asking. Here is the booking information the user is just about to place:\n",
      "Name: Agustin Sarasua\n",
      "Email: agustinsarasua@gmail.com\n",
      "Check-in: 2023-06-26\n",
      "Check-out: 2023-06-28\n",
      "Number of guests: 3\n",
      "House: Luna\n",
      "\n",
      "Step 2: If the user has confirmed to palce the booking, you tell him that the reservation is booked for 3 hours \\ \n",
      "and that you will send an email with information about the booking along with payment instructions.\n",
      "\n",
      "Here is a list of the last messages you exchanged with the user: \n",
      "assistant: ¿Desea confirmar la reserva con los siguientes datos?\n",
      "\n",
      "Nombre: Agustin Sarasua\n",
      "Email: agustinsarasua@gmail.com\n",
      "Check-in: 2023-06-26\n",
      "Check-out: 2023-06-28\n",
      "Número de huéspedes: 3\n",
      "Casa: Luna\n",
      "user: {'role': 'user', 'content': 'Si'}\n",
      "\n",
      "\n",
      "The output should be a markdown code snippet formatted in the following schema, including the leading and trailing \"```json\" and \"```\":\n",
      "\n",
      "```json\n",
      "{\n",
      "\t\"booking_placed\": string  // True if the user decided to place the booking, otherwise empty string\n",
      "\t\"text\": string  // The response to the user\n",
      "}\n",
      "```\u001b[0m\n",
      "\n",
      "\u001b[1m> Finished chain.\u001b[0m\n",
      "Resolver: {'booking_placed': 'True', 'text': 'La reserva ha sido realizada. Recibirá un correo electrónico con la información de la reserva y las instrucciones de pago en un plazo de 3 horas. ¡Gracias por elegir nuestro servicio!'}\n"
     ]
    },
    {
     "data": {
      "text/plain": [
       "'La reserva ha sido realizada. Recibirá un correo electrónico con la información de la reserva y las instrucciones de pago en un plazo de 3 horas. ¡Gracias por elegir nuestro servicio!'"
      ]
     },
     "execution_count": 3,
     "metadata": {},
     "output_type": "execute_result"
    }
   ],
   "source": [
    "# test_task(\"Hola, me gustaria reservar una casa para el sabado que viene por dos noches para 3 personas.\")\n",
    "# test_task(\"La mas barata\")\n",
    "# test_task(\"Agustin Sarasua, agustinsarasua@gmail.com\")\n",
    "test_task(\"Si\")\n",
    "# test_task(\"Si, me gustaria reservar la mas barata\")"
   ]
  },
  {
   "cell_type": "code",
   "execution_count": 9,
   "metadata": {},
   "outputs": [],
   "source": [
    "from app.agents import load_information_agent, get_create_booking_agent, get_booking_conversation_agent, get_house_selection_agent\n",
    "\n",
    "from app.system import Conversation, Task, Step\n",
    "from app.task_resolver import GatherBookingInfoResolver\n",
    "from app.system import System\n",
    "\n",
    "system_x = System()\n",
    "# step = Step(\"GATHER_BOOKING_INFO\", GatherBookingInfoResolver())\n",
    "customer_number=\"99513718\"\n",
    "\n",
    "def test_agent(message, customer_number=\"99513718\"):\n",
    "    \n",
    "    conversation = system_x.get_conversation(customer_number)\n",
    "    print(f\"Conversation: {conversation}\")\n",
    "    house_selection_agent = get_house_selection_agent(conversation)\n",
    "    system_x.add_user_message(message, customer_number)\n",
    "\n",
    "    assistant_response = house_selection_agent.run(input=message)\n",
    "    system_x.add_system_message(assistant_response, customer_number)\n",
    "    return assistant_response"
   ]
  },
  {
   "cell_type": "code",
   "execution_count": null,
   "metadata": {},
   "outputs": [],
   "source": [
    "booking_information = {'checkin_date': '2023-06-19', 'checkout_date': '2023-06-21', 'num_nights': 2, 'num_guests': 2}\n",
    "\n",
    "msg = f\"\"\"Me gustaria elegir una casa con la siguiente disponibilidad: \\\n",
    "check in: {booking_information['checkin_date']}, \\\n",
    "check out: {booking_information['checkout_date']}, \\\n",
    "numero de personas: {booking_information['num_guests']}, \\\n",
    "numero de noches: {booking_information['num_nights']}\"\"\"\n",
    "\n",
    "test_agent(msg)"
   ]
  },
  {
   "cell_type": "code",
   "execution_count": null,
   "metadata": {},
   "outputs": [],
   "source": [
    "test_agent(\"Bien, cual es mas barata?\")"
   ]
  },
  {
   "cell_type": "code",
   "execution_count": 7,
   "metadata": {},
   "outputs": [
    {
     "data": {
      "text/plain": [
       "\"Luna:\\nproperty_id: Luna\\ndescription: Impresionante villa con vistas panorámicas a las montañas.\\namenities: ['Wi-Fi', 'private parking', 'pet-friendly', 'barbecue', 'private pool']\\nprice: 120\\ncurrency: USD\\nmax_guests: 4\\n\\n\""
      ]
     },
     "execution_count": 7,
     "metadata": {},
     "output_type": "execute_result"
    }
   ],
   "source": [
    "import json\n",
    "\n",
    "def format_json(json_data):\n",
    "    formatted_string = ''\n",
    "    data = json.loads(json_data)\n",
    "    for property_name, property_data in data.items():\n",
    "        formatted_string += f\"{property_name}:\\n\"\n",
    "        for key, value in property_data.items():\n",
    "            formatted_string += f\"{key}: {value}\\n\"\n",
    "        formatted_string += \"\\n\"\n",
    "    return formatted_string\n",
    "\n",
    "# Example usage\n",
    "json_data = '''\n",
    "{\n",
    "    \"Luna\": {\n",
    "        \"property_id\": \"Luna\",\n",
    "        \"description\": \"Impresionante villa con vistas panorámicas a las montañas.\",\n",
    "        \"amenities\": [\"Wi-Fi\", \"private parking\", \"pet-friendly\", \"barbecue\", \"private pool\"],\n",
    "        \"price\": \"120\",\n",
    "        \"currency\": \"USD\",\n",
    "        \"max_guests\": \"4\"\n",
    "    }\n",
    "}\n",
    "'''\n",
    "\n",
    "format_json(json_data)\n"
   ]
  },
  {
   "cell_type": "code",
   "execution_count": null,
   "metadata": {},
   "outputs": [],
   "source": []
  }
 ],
 "metadata": {
  "kernelspec": {
   "display_name": ".venv",
   "language": "python",
   "name": "python3"
  },
  "language_info": {
   "codemirror_mode": {
    "name": "ipython",
    "version": 3
   },
   "file_extension": ".py",
   "mimetype": "text/x-python",
   "name": "python",
   "nbconvert_exporter": "python",
   "pygments_lexer": "ipython3",
   "version": "3.11.3"
  },
  "orig_nbformat": 4
 },
 "nbformat": 4,
 "nbformat_minor": 2
}
