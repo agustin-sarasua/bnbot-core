{
 "cells": [
  {
   "cell_type": "code",
   "execution_count": 1,
   "metadata": {},
   "outputs": [],
   "source": [
    "%reload_ext autoreload\n",
    "%autoreload 2\n",
    "\n",
    "import os\n",
    "import openai\n",
    "from dotenv import load_dotenv, find_dotenv\n",
    "_ = load_dotenv(find_dotenv()) # read local .env file\n",
    "\n",
    "openai.api_key  = os.environ['OPENAI_API_KEY']"
   ]
  },
  {
   "cell_type": "code",
   "execution_count": 3,
   "metadata": {},
   "outputs": [],
   "source": [
    "from app.system import System\n",
    "from app.tools import PropertiesFilterTool, InfoExtractorTool\n"
   ]
  },
  {
   "cell_type": "code",
   "execution_count": 4,
   "metadata": {},
   "outputs": [],
   "source": [
    "# from app.system import Conversation, Task, Step\n",
    "# from app.task_resolver import GatherBookingInfoResolver\n",
    "# from app.system import System\n",
    "\n",
    "# system_x = System()\n",
    "# step = Step(\"GATHER_BOOKING_INFO\", GatherBookingInfoResolver())\n",
    "# customer_number=\"99513718\"\n",
    "\n",
    "# def test_step(message, customer_number=\"99513718\"):\n",
    "#     system_x.add_user_message(message, customer_number)\n",
    "#     conversation = system_x.get_conversation(customer_number)\n",
    "#     print(f\"Conversation: {conversation}\")\n",
    "#     result = step.resolve(conversation)\n",
    "\n",
    "#     print(f\"Result: {result} \\nStep Done: {step.is_done()}\")\n",
    "#     if not step.is_done():\n",
    "#         system_x.add_assistant_message(result, customer_number)\n",
    "#     else:\n",
    "#         print(\"Step is Done, we can move to the next step.\")\n",
    "\n",
    "# test_step(\"2 personas para el sabado por 2 noches\")"
   ]
  },
  {
   "cell_type": "code",
   "execution_count": 1,
   "metadata": {},
   "outputs": [],
   "source": [
    "from app.system import Conversation, Task, Step\n",
    "from app.task_resolver import GatherBookingInfoResolver, HouseSelectionResolver, GatherUserInfoResolver, BookingConfirmationResolver\n",
    "from app.system import System\n",
    "from app.task_resolver.tasks import create_make_reservation_task\n",
    "import langchain\n",
    "\n",
    "system = System()\n",
    "customer_number=\"99513718\"\n",
    "\n",
    "# make_reservation_task = create_make_reservation_task()\n",
    "\n",
    "def test_task(message: str, task: Task):\n",
    "    \n",
    "    system.add_user_message(message, customer_number)\n",
    "    conversation = system.get_conversation(customer_number)\n",
    "    print(f\"Conversation: {conversation}\")\n",
    "    response = task.run(conversation)\n",
    "    system.add_assistant_message(response, customer_number)\n",
    "    return response\n",
    "    # system_x.add_user_message(message, customer_number)\n",
    "    # conversation = system_x.get_conversation(customer_number)\n",
    "    # print(f\"Conversation: {conversation}\")\n",
    "    # result = step.resolve(conversation)\n",
    "\n",
    "    # print(f\"Result: {result} \\nStep Done: {step.is_done()}\")\n",
    "    # if not step.is_done():\n",
    "    #     system_x.add_assistant_message(result, customer_number)\n",
    "    # else:\n",
    "    #     print(\"Step is Done, we can move to the next step.\")"
   ]
  },
  {
   "cell_type": "code",
   "execution_count": 4,
   "metadata": {},
   "outputs": [
    {
     "data": {
      "text/plain": [
       "[{'role': 'user',\n",
       "  'content': 'Hola, me gustaria reservar una casa para el sabado que viene por dos noches para 3 personas.'},\n",
       " {'role': 'assistant',\n",
       "  'content': 'Hola! Tenemos dos propiedades disponibles: \\n\\n1. Cabaña Sol: Impresionante villa con vistas panorámicas a las montañas. Esta lujosa propiedad ofrece un ambiente tranquilo y relajante con amplios espacios interiores y exteriores. Cuenta con una piscina privada, jardines exuberantes y una terraza para disfrutar de las maravillosas vistas. Perfecta para escapadas en familia o con amigos. Precio por noche: 250.0 USD\\n\\n2. Cabaña Luna: Impresionante villa con vistas panorámicas a las montañas. Esta lujosa propiedad ofrece un ambiente tranquilo y relajante con amplios espacios interiores y exteriores. Cuenta con una piscina privada, jardines exuberantes y una terraza para disfrutar de las maravillosas vistas. Perfecta para escapadas en familia o con amigos. Precio por noche: 120.0 USD\\n\\nPor favor, seleccione una propiedad para hacer la reserva.'},\n",
       " {'role': 'user', 'content': 'La mas barata'},\n",
       " {'role': 'assistant',\n",
       "  'content': 'Perfecto, la Cabaña Luna está disponible. Por favor, proporcione su nombre y correo electrónico para hacer la reserva.'},\n",
       " {'role': 'user', 'content': 'Agustin Sarasua, agustinsarasua@gmail.com'},\n",
       " {'role': 'assistant',\n",
       "  'content': '¿Desea confirmar la reserva con los siguientes datos?\\n\\nNombre: Agustin Sarasua\\nEmail: agustinsarasua@gmail.com\\nCheck-in: 2023-06-26\\nCheck-out: 2023-06-28\\nNúmero de huéspedes: 3\\nCasa: Luna'},\n",
       " {'role': 'user', 'content': 'Si'},\n",
       " {'role': 'assistant',\n",
       "  'content': 'La reserva ha sido realizada. Recibirá un correo electrónico con la información de la reserva y las instrucciones de pago en un plazo de 3 horas. ¡Gracias por elegir nuestro servicio!'}]"
      ]
     },
     "execution_count": 4,
     "metadata": {},
     "output_type": "execute_result"
    }
   ],
   "source": [
    "system_x.get_conversation(customer_number)"
   ]
  },
  {
   "cell_type": "code",
   "execution_count": 3,
   "metadata": {},
   "outputs": [
    {
     "name": "stdout",
     "output_type": "stream",
     "text": [
      "Conversation: [{'role': 'user', 'content': 'Hola, me gustaria reservar una casa para el sabado que viene por dos noches para 3 personas.'}, {'role': 'assistant', 'content': 'Hola! Tenemos dos propiedades disponibles: \\n\\n1. Cabaña Sol: Impresionante villa con vistas panorámicas a las montañas. Esta lujosa propiedad ofrece un ambiente tranquilo y relajante con amplios espacios interiores y exteriores. Cuenta con una piscina privada, jardines exuberantes y una terraza para disfrutar de las maravillosas vistas. Perfecta para escapadas en familia o con amigos. Precio por noche: 250.0 USD\\n\\n2. Cabaña Luna: Impresionante villa con vistas panorámicas a las montañas. Esta lujosa propiedad ofrece un ambiente tranquilo y relajante con amplios espacios interiores y exteriores. Cuenta con una piscina privada, jardines exuberantes y una terraza para disfrutar de las maravillosas vistas. Perfecta para escapadas en familia o con amigos. Precio por noche: 120.0 USD\\n\\nPor favor, seleccione una propiedad para hacer la reserva.'}, {'role': 'user', 'content': 'La mas barata'}, {'role': 'assistant', 'content': 'Perfecto, la Cabaña Luna está disponible. Por favor, proporcione su nombre y correo electrónico para hacer la reserva.'}, {'role': 'user', 'content': 'Agustin Sarasua, agustinsarasua@gmail.com'}, {'role': 'assistant', 'content': '¿Desea confirmar la reserva con los siguientes datos?\\n\\nNombre: Agustin Sarasua\\nEmail: agustinsarasua@gmail.com\\nCheck-in: 2023-06-26\\nCheck-out: 2023-06-28\\nNúmero de huéspedes: 3\\nCasa: Luna'}, {'role': 'user', 'content': 'Si'}]\n",
      "Resolving Step: BOOKING_CONFIRMATION\n",
      "\n",
      "\n",
      "\u001b[1m> Entering new  chain...\u001b[0m\n",
      "Prompt after formatting:\n",
      "\u001b[32;1m\u001b[1;3mYou are an Assistant that helps users book houses for short-term stay. \n",
      "Your task is make the user confirmed the booking based on the conversation.\n",
      "You allways respond in Spanish.\n",
      "Follow these Steps before responding to the user new message:\n",
      "\n",
      "Step 1: Ask the user if he wants to place the booking by showing him a summary of the booking. You must NOT great the customer when asking. Here is the booking information the user is just about to place:\n",
      "Name: Agustin Sarasua\n",
      "Email: agustinsarasua@gmail.com\n",
      "Check-in: 2023-06-26\n",
      "Check-out: 2023-06-28\n",
      "Number of guests: 3\n",
      "House: Luna\n",
      "\n",
      "Step 2: If the user has confirmed to palce the booking, you tell him that the reservation is booked for 3 hours \\ \n",
      "and that you will send an email with information about the booking along with payment instructions.\n",
      "\n",
      "Here is a list of the last messages you exchanged with the user: \n",
      "assistant: ¿Desea confirmar la reserva con los siguientes datos?\n",
      "\n",
      "Nombre: Agustin Sarasua\n",
      "Email: agustinsarasua@gmail.com\n",
      "Check-in: 2023-06-26\n",
      "Check-out: 2023-06-28\n",
      "Número de huéspedes: 3\n",
      "Casa: Luna\n",
      "user: {'role': 'user', 'content': 'Si'}\n",
      "\n",
      "\n",
      "The output should be a markdown code snippet formatted in the following schema, including the leading and trailing \"```json\" and \"```\":\n",
      "\n",
      "```json\n",
      "{\n",
      "\t\"booking_placed\": string  // True if the user decided to place the booking, otherwise empty string\n",
      "\t\"text\": string  // The response to the user\n",
      "}\n",
      "```\u001b[0m\n",
      "\n",
      "\u001b[1m> Finished chain.\u001b[0m\n",
      "Resolver: {'booking_placed': 'True', 'text': 'La reserva ha sido realizada. Recibirá un correo electrónico con la información de la reserva y las instrucciones de pago en un plazo de 3 horas. ¡Gracias por elegir nuestro servicio!'}\n"
     ]
    },
    {
     "data": {
      "text/plain": [
       "'La reserva ha sido realizada. Recibirá un correo electrónico con la información de la reserva y las instrucciones de pago en un plazo de 3 horas. ¡Gracias por elegir nuestro servicio!'"
      ]
     },
     "execution_count": 3,
     "metadata": {},
     "output_type": "execute_result"
    }
   ],
   "source": [
    "# test_task(\"Hola, me gustaria reservar una casa para el sabado que viene por dos noches para 3 personas.\")\n",
    "# test_task(\"La mas barata\")\n",
    "# test_task(\"Agustin Sarasua, agustinsarasua@gmail.com\")\n",
    "test_task(\"Si\")\n",
    "# test_task(\"Si, me gustaria reservar la mas barata\")"
   ]
  }
 ],
 "metadata": {
  "kernelspec": {
   "display_name": ".venv",
   "language": "python",
   "name": "python3"
  },
  "language_info": {
   "codemirror_mode": {
    "name": "ipython",
    "version": 3
   },
   "file_extension": ".py",
   "mimetype": "text/x-python",
   "name": "python",
   "nbconvert_exporter": "python",
   "pygments_lexer": "ipython3",
   "version": "3.11.3"
  },
  "orig_nbformat": 4
 },
 "nbformat": 4,
 "nbformat_minor": 2
}
