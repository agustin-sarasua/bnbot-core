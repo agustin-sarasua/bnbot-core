{
 "cells": [
  {
   "cell_type": "code",
   "execution_count": 1,
   "metadata": {},
   "outputs": [],
   "source": [
    "%reload_ext autoreload\n",
    "%autoreload 2\n",
    "\n",
    "import os\n",
    "import openai\n",
    "from dotenv import load_dotenv, find_dotenv\n",
    "_ = load_dotenv(find_dotenv()) # read local .env file\n",
    "\n",
    "openai.api_key  = os.environ['OPENAI_API_KEY']"
   ]
  },
  {
   "cell_type": "code",
   "execution_count": 2,
   "metadata": {},
   "outputs": [],
   "source": [
    "from app.system import System\n",
    "from app.assistant import Assistant\n",
    "from app.assistant_response_router import AssistantResponseRouter\n",
    "\n",
    "from app.tools import PropertiesFilterTool, InfoExtractorTool\n",
    "from app.assistant_response_router import AssistantResponseRouter\n",
    "from app.agents import load_information_agent, create_booking_agent\n"
   ]
  },
  {
   "cell_type": "code",
   "execution_count": 3,
   "metadata": {},
   "outputs": [],
   "source": [
    "system = System()\n",
    "assistant = Assistant()\n",
    "assistant_response_router = AssistantResponseRouter()\n",
    "\n"
   ]
  },
  {
   "cell_type": "code",
   "execution_count": 4,
   "metadata": {},
   "outputs": [],
   "source": [
    "def handler(message, customer_number=\"99513718\"):\n",
    "    conversation = system.get_conversation(customer_number)\n",
    "    print(f\"Conversation: {conversation}\")\n",
    "    system.add_user_message(message, customer_number)\n",
    "    print(f\"New Conversation: {system.get_conversation(customer_number)}\")\n",
    "    assistant_response = assistant.run(message, conversation)\n",
    "    print(f\"Assistant Response: {assistant_response}\")\n",
    "\n",
    "    # assistant_response_router_input = system.get_conversation_string(customer_number)\n",
    "    print(f\"Assistant Response Router Input: {assistant_response}\")\n",
    "    next_action = assistant_response_router(assistant_response)\n",
    "    print(f\"Next Action: {next_action}\")\n",
    "    if \"load_properties_information\" in next_action[\"action\"]:\n",
    "        print(f\"Loading properties...\")\n",
    "        properties_info_response = load_information_agent.run(input=system.get_conversation_string(customer_number))\n",
    "        if properties_info_response != \"\":\n",
    "            # system.add_assistant_message(properties_info_response, customer_number)\n",
    "            print(f\"Updating conversation with Properties loaded\")\n",
    "            system.add_system_message(properties_info_response[\"text\"], customer_number)\n",
    "            print(f\"Getting new response from Assistant\")\n",
    "            new_assistant_response = assistant.get_completion_from_messages(system.get_conversation(customer_number))\n",
    "            system.add_assistant_message(new_assistant_response, customer_number)\n",
    "            return new_assistant_response\n",
    "        else:\n",
    "            print(f\"Not information loaded from properties, continuew conversation.\")\n",
    "            system.add_assistant_message(assistant_response, customer_number)\n",
    "            return assistant_response\n",
    "    elif \"pre_booking\" in next_action[\"action\"]:\n",
    "        print(f\"Creating pre booking...\")\n",
    "        properties_info_response = create_booking_agent.run(input=system.get_conversation_string(customer_number))\n",
    "        print(f\"Booking created: {properties_info_response}\")\n",
    "    else:\n",
    "        print(f\"Continue with conversation.\")\n",
    "        system.add_assistant_message(assistant_response, customer_number)\n",
    "        return assistant_response\n",
    "\n"
   ]
  },
  {
   "cell_type": "code",
   "execution_count": 7,
   "metadata": {},
   "outputs": [
    {
     "name": "stdout",
     "output_type": "stream",
     "text": [
      "Conversation: [{'role': 'user', 'content': 'Me gustaria reservar una casa para 3 presonas por dos noches para el 20 de junio'}, {'role': 'assistant', 'content': '¡Hola! Claro, puedo ayudarte con eso. ¿Podrías decirme qué tipo de casa prefieres y cuál es tu presupuesto? Además, ¿podrías proporcionarme tu fecha de salida? ¡Gracias!'}]\n",
      "New Conversation: [{'role': 'user', 'content': 'Me gustaria reservar una casa para 3 presonas por dos noches para el 20 de junio'}, {'role': 'assistant', 'content': '¡Hola! Claro, puedo ayudarte con eso. ¿Podrías decirme qué tipo de casa prefieres y cuál es tu presupuesto? Además, ¿podrías proporcionarme tu fecha de salida? ¡Gracias!'}, {'role': 'user', 'content': 'por 2 noches, no tengo presupuesto'}]\n",
      "Assistant Response: ¡Hola! Entendido, para verificar la disponibilidad, necesito saber cuántas personas serán y las fechas de entrada y salida. ¿Podrías proporcionarme esa información, por favor? ¡Gracias!\n",
      "Assistant Response Router Input: ¡Hola! Entendido, para verificar la disponibilidad, necesito saber cuántas personas serán y las fechas de entrada y salida. ¿Podrías proporcionarme esa información, por favor? ¡Gracias!\n",
      "\n",
      "\n",
      "\u001b[1m> Entering new  chain...\u001b[0m\n",
      "Prompt after formatting:\n",
      "\u001b[32;1m\u001b[1;3mGiven a input message from an assistant to a user and a set of actions, your job is to decide what is the assistant next action.\n",
      "\n",
      "Here are the available actions:\n",
      "\n",
      "load_properties_information: Respond with this action when the assistant is going to load information about available properties.\n",
      "\n",
      "pre_booking: Respond with this action when the assistant is going to book the reservation for the user.\n",
      "\n",
      "wait_response: Respond with this action when te assistant asks the user to provide more information about the booking including: check-in date, check-out date, number of guests, number of nights, name, email or house to book.\n",
      "\n",
      "other: Respond with this action when none of the above actions are suitable.\n",
      "\n",
      "Here is the message: \n",
      "¡Hola! Entendido, para verificar la disponibilidad, necesito saber cuántas personas serán y las fechas de entrada y salida. ¿Podrías proporcionarme esa información, por favor? ¡Gracias!\n",
      "\n",
      "The output should be a markdown code snippet formatted in the following schema, including the leading and trailing \"```json\" and \"```\":\n",
      "\n",
      "```json\n",
      "{\n",
      "\t\"action\": string  // Name of the next action to take.\n",
      "}\n",
      "```\u001b[0m\n",
      "\n",
      "\u001b[1m> Finished chain.\u001b[0m\n",
      "Next Action: {'action': 'wait_response'}\n",
      "Continue with conversation.\n"
     ]
    },
    {
     "data": {
      "text/plain": [
       "'¡Hola! Entendido, para verificar la disponibilidad, necesito saber cuántas personas serán y las fechas de entrada y salida. ¿Podrías proporcionarme esa información, por favor? ¡Gracias!'"
      ]
     },
     "execution_count": 7,
     "metadata": {},
     "output_type": "execute_result"
    }
   ],
   "source": [
    "#handler(\"Hola\", customer_number=\"99513718\")\n",
    "#handler(\"Me gustaria reservar una casa para 3 presonas por dos noches para el 20 de junio\", customer_number=\"99513718\")\n",
    "handler(\"por 2 noches, no tengo presupuesto\", customer_number=\"99513718\")\n",
    "\n",
    "#handler(\"Perfecto, me gustaria reservar la propiedad Sol\", customer_number=\"99513718\")\n",
    "#handler(\"Agustin Sarasua, a@gmail.com, 099513718\", customer_number=\"99513718\")\n",
    "\n",
    "\n",
    "#handler(\" 3 personas para el 20 de junio por 2 noches\", customer_number=\"99513718\")\n",
    "#handler(\"En mercedes, la mas economica\", customer_number=\"99513718\")\n",
    "\n",
    "#handler(\"Perfecto, mer sirve\", customer_number=\"99513718\")\n",
    "#handler(\"Aca te paso: Agustin Sarasua, a@gmail.com, 099513718\", customer_number=\"99513718\")\n",
    "\n"
   ]
  },
  {
   "cell_type": "code",
   "execution_count": 21,
   "metadata": {},
   "outputs": [],
   "source": [
    "\n",
    "# info_extractor_tool = InfoExtractorTool()\n",
    "# info_extractor_tool_result = info_extractor_tool.run({\"query\": \"Hola, me gustaria alquilar una casa para el 2 de setiembre para 3 personas por 2 noches\"})\n",
    "# info_extractor_tool_result\n",
    "# # models = get_models_tool.run({\"query_params\": {\"search\": \"gpt-j\"}})\n",
    "\n",
    "\n",
    "# properties_filter_tool = PropertiesFilterTool()\n",
    "# properties_filter_tool.run({'checkin_date': '2023-06-20',\n",
    "#  'checkout_date': '2023-06-23',\n",
    "#  'num_nights': '3',\n",
    "#  'num_guests': '3'})\n"
   ]
  },
  {
   "cell_type": "code",
   "execution_count": 8,
   "metadata": {},
   "outputs": [
    {
     "data": {
      "text/plain": [
       "[{'role': 'user',\n",
       "  'content': 'Me gustaria reservar una casa para 3 presonas por dos noches para el 20 de junio'},\n",
       " {'role': 'assistant',\n",
       "  'content': '¡Hola! Claro, puedo ayudarte con eso. ¿Podrías decirme qué tipo de casa prefieres y cuál es tu presupuesto? Además, ¿podrías proporcionarme tu fecha de salida? ¡Gracias!'},\n",
       " {'role': 'user', 'content': 'por 2 noches, no tengo presupuesto'},\n",
       " {'role': 'assistant',\n",
       "  'content': '¡Hola! Entendido, para verificar la disponibilidad, necesito saber cuántas personas serán y las fechas de entrada y salida. ¿Podrías proporcionarme esa información, por favor? ¡Gracias!'}]"
      ]
     },
     "execution_count": 8,
     "metadata": {},
     "output_type": "execute_result"
    }
   ],
   "source": [
    "\n",
    "system.get_conversation(\"99513718\")\n"
   ]
  },
  {
   "cell_type": "code",
   "execution_count": null,
   "metadata": {},
   "outputs": [],
   "source": []
  }
 ],
 "metadata": {
  "kernelspec": {
   "display_name": ".venv",
   "language": "python",
   "name": "python3"
  },
  "language_info": {
   "codemirror_mode": {
    "name": "ipython",
    "version": 3
   },
   "file_extension": ".py",
   "mimetype": "text/x-python",
   "name": "python",
   "nbconvert_exporter": "python",
   "pygments_lexer": "ipython3",
   "version": "3.11.3"
  },
  "orig_nbformat": 4
 },
 "nbformat": 4,
 "nbformat_minor": 2
}
